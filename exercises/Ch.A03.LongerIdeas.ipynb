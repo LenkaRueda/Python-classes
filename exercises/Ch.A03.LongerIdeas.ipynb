{
 "cells": [
  {
   "cell_type": "markdown",
   "metadata": {},
   "source": [
    "# Longer Question Ideas \n",
    "\n",
    "[![Binder](https://mybinder.org/badge.svg)](https://mybinder.org/v2/gh/berniehogan/introducingpython/main?filepath=exercises%2FCh.A03.LongerIdeas.ipynb)\n",
    "[![Colab](https://colab.research.google.com/assets/colab-badge.svg)](https://colab.research.google.com/github/berniehogan/introducingpython/blob/main/exercises/Ch.A03.LongerIdeas.ipynb)"
   ]
  },
  {
   "cell_type": "markdown",
   "metadata": {},
   "source": [
    "These are some of the longer creative questions that I have used in classes in the past. These normally involve combining multiple ideas from the book in creative ways as well as perhaps drawing upon some knowledge beyond the book. I don't have specific answers to these questions available, they are for you to explore on your own. "
   ]
  },
  {
   "cell_type": "markdown",
   "metadata": {},
   "source": [
    "# Mad Libs \n",
    "\n",
    "The game Mad Libs involves first coming up with random words based on parts-of-speech tagging (verbs, nouns, pronouns, adverbs, etc...) and then putting them into a pre-given sentence. Such as: \n",
    "\n",
    "~~~\n",
    "{Proper noun} was so surprised when they saw the {noun} {verb continuous} in town square, \n",
    "they immediately packed their bags full of {plural noun} and left for {Geographic location}.  \n",
    "~~~\n",
    "\n",
    "Your goal is to make a mad libs game. You should use loops to ask for user input five times, each representing a different class of word. It need not be formal grammar; it could be \"restaurant\", \"Movie\", etc. but it certainly is more fun when you expand beyond nouns. Then print the sentence for the user. Try to make the order that you ask for the five words is _not_ the same as the order in which they are presented. "
   ]
  },
  {
   "cell_type": "markdown",
   "metadata": {},
   "source": [
    "## Comparing Pseudocode to the real thing\n",
    "\n",
    "For this one, here is a pseudocode version of my answer to get you started: \n",
    "\n",
    "~~~ \n",
    "get a dictionary for the \"libs\". \n",
    "The key is the type of word and the value will come from the user.\n",
    "We will set the value as none for now. \n",
    "Since dictionary keys need to be unique and we might want two nouns or two places:\n",
    "label them noun1 and noun2\n",
    "\n",
    "Figure out a way to iterate through a shuffled dictionary. \n",
    "Since we cannot shuffle a dictionary directly:\n",
    " First get the keys from the dictionary, \n",
    " Shuffle the keys, and then iterate through those keys. \n",
    "\n",
    "On each iteration, assign a value to the dictionary by asking for user input.\n",
    "The user input should use the key in the prompt like \n",
    " \"Please suggest a noun for the story\"\n",
    "\n",
    "Then use f-insertions to paste the answers in the story. \n",
    "~~~"
   ]
  },
  {
   "cell_type": "code",
   "execution_count": null,
   "metadata": {},
   "outputs": [],
   "source": [
    "# Example answer \n",
    "\n",
    "import random \n",
    "\n",
    "answer_dict = {\"plural noun1\": None,\n",
    "               \"verb continuous1\": None,\n",
    "               \"noun1\": None,\n",
    "               \"place1\": None,\n",
    "               \"place2\": None,\n",
    "               \"proper noun1\": None\n",
    "              }\n",
    "\n",
    "libs = list(answer_dict.keys())\n",
    "random.shuffle(libs)\n",
    "\n",
    "for i in libs: \n",
    "    answer_dict[i] = input(f\"Please suggest a {i[:-1]} for the story:\")\n",
    "\n",
    "ad = answer_dict\n",
    "\n",
    "story = f'{ad[\"proper noun1\"]} was so surprised when they saw the {ad[\"noun1\"]} {ad[\"verb continuous1\"]} in {ad[\"place1\"]}, they immediately packed their bags full of {ad[\"plural noun1\"]} and left for {ad[\"place2\"]}.'\n",
    "\n",
    "print(story)"
   ]
  },
  {
   "cell_type": "markdown",
   "metadata": {},
   "source": [
    "## Making it more robust or more general \n",
    "\n",
    "Ok so that was pretty simple. And you didn't have to do much other than run my code. But what about the following extensions:\n",
    "- Creating a general way to insert some text and then create the madlib. Here we created a dictionary and then linked that to the string. What about a way to do it so the dictionary is not hard coded somehow? \n",
    "- Try feeding it text from a text file that you have marked up with the madlibs in a form like: `Hello ##Proper noun##, did I see you at ##Place name##.` And then auto-generating the madlib from this. \n",
    "- Learning about parts-of-speech taggers in programs like `nltk` and spacy. Then feed in any paragraph of text and automatically remove some of the words and generate a madlib that way. "
   ]
  },
  {
   "cell_type": "markdown",
   "metadata": {},
   "source": [
    "# Creating a word waterfall"
   ]
  },
  {
   "cell_type": "markdown",
   "metadata": {},
   "source": [
    "Just past the title page of this book is a word waterfall (my own idea) with \"Introducing Python\". In this idea, each iteration a letter is replaced with a space.\n",
    "\n",
    "Below I have written two different ways to create a word waterfall algorithmically. \n",
    "\n",
    "Read them both, edit and play with them as you like. \n",
    "\n",
    "Then below write the following: \n",
    "1. A pseudocode explanation of algorithm 1. \n",
    "2. A pseudocode explanation of algorothm 2. \n",
    "3. An evaluation of algorithms 1 and 2: What is common about them and what is different? "
   ]
  },
  {
   "cell_type": "code",
   "execution_count": 1,
   "metadata": {},
   "outputs": [],
   "source": [
    "import random \n",
    "\n",
    "WORD = \"waterfall\""
   ]
  },
  {
   "cell_type": "code",
   "execution_count": 2,
   "metadata": {},
   "outputs": [
    {
     "name": "stdout",
     "output_type": "stream",
     "text": [
      "waterfall\n",
      " aterfall\n",
      " aterfal \n",
      " a erfal \n",
      " a er al \n",
      " a er  l \n",
      "   er  l \n",
      "   er    \n",
      "    r    \n"
     ]
    }
   ],
   "source": [
    "word = list(WORD)\n",
    "\n",
    "wordmap = list(range(len(word)))\n",
    "random.shuffle(wordmap)\n",
    "for i in wordmap: \n",
    "    print(\"\".join(word))\n",
    "    word[i] = \" \"\n"
   ]
  },
  {
   "cell_type": "code",
   "execution_count": 3,
   "metadata": {},
   "outputs": [
    {
     "name": "stdout",
     "output_type": "stream",
     "text": [
      "waterfall\n",
      "waterfal \n",
      "wat rfal \n",
      "wat rf l \n",
      "wat rf   \n",
      " at rf   \n",
      "  t rf   \n",
      "  t r    \n",
      "    r    \n",
      "\n"
     ]
    }
   ],
   "source": [
    "word = list(WORD)\n",
    "\n",
    "while word != (len(word) * [\" \"]):\n",
    "    to_del = random.randint(0,len(word)-1)\n",
    "    if word[to_del].isalpha():\n",
    "        print(\"\".join(word))\n",
    "        word[to_del] = \" \"    \n",
    "\n",
    "print()"
   ]
  },
  {
   "cell_type": "markdown",
   "metadata": {},
   "source": [
    "## Pseudocode, similarities, and differences\n",
    "\n",
    "For the `for` loop waterfall: \n",
    "\n",
    "~~~\n",
    "insert pseduocode here\n",
    "~~~\n",
    "\n",
    "For the `while` loop waterfall\n",
    "\n",
    "~~~\n",
    "insert pseudocode here \n",
    "~~~\n",
    "\n",
    "Discuss the differences and advantages below:"
   ]
  },
  {
   "cell_type": "markdown",
   "metadata": {},
   "source": [
    "## Create a `waterfall.py` script\n",
    "\n",
    "Create a script in python called `waterfall.py` which can be run from the terminal. \n",
    "\n",
    "The script will take an argument and then print the argument as a waterfall:\n",
    "\n",
    "~~~ bash\n",
    "% python waterfall.py avalanche \n",
    "~~~\n",
    "\n",
    "Should print something like: \n",
    "\n",
    "~~~    \n",
    "avalanche\n",
    "avala che\n",
    "a ala che\n",
    "a  la che\n",
    "a  l  che\n",
    "   l  che\n",
    "      che\n",
    "      ch \n",
    "       h \n",
    "~~~\n"
   ]
  },
  {
   "cell_type": "markdown",
   "metadata": {},
   "source": [
    "## Create your own waterfalls in a script.\n",
    "\n",
    "Extend the script above with 'interactive mode'. This means that if your argument is `-i` instead of a word then it will ask a series of questions:\n",
    "\n",
    "1. `What word or phrase would you like to waterfall?`:\n",
    " - This will then print the waterfall from `input()`\n",
    "2. `Would you like to save the waterfall as a file? (y/n)`:\n",
    " - If the user enters `y` this will then save `<WORD>.txt` as a file.\n",
    " - This means you have to save the waterfall as a string just in case you need it here to be written to file.\n",
    " - `print(f\"{<WORD>} has been written\")`"
   ]
  },
  {
   "cell_type": "markdown",
   "metadata": {
    "id": "okdz31rKKZ9x"
   },
   "source": [
    "# Your very own restaurant on YummyNet\n",
    "\n",
    "After the fall of Deliveroo, Uber Eats, and JustEats for questionable labour standards in the near future, YummyNet emerged as a more considerate albeit more expensive platform for restaurants. Having had limited success with your chatbots for pets app, you've decided to switch careers and open a restaurant. \n",
    "\n",
    "For this exercise, you have to make a standalone Python program (a `*.py` script) that will simulate the store front for this resutaurant. But times are tough and goods are scarce, so this is going to be a bit of an unpridctable menu. \n",
    "\n",
    "We expect the following steps: \n",
    "\n",
    "1. Create a welcome message and ask for the user's post code. \n",
    "2. List the items on the menu for delivery and their prices.  \n",
    "3. Have the user select an order for delivery from the items on the menu.\n",
    " - There should be at least five mains and three sides. The mains should be made of multiple ingredients. \n",
    " - when the program starts, randomly select one ingredient to be 'sold out due to those panic buyers' (or a similarly plausible reason for an ingredient to be sold out). If the user selects an item with that ingredient mention that it is sold out and offer an alternative.  \n",
    "4. When finished, print the order, an order number, the total price, and the delivery time. \n",
    "5. Ask them to confirm by giving their mobile phone number. \n",
    "\n",
    "Note: \n",
    "\n",
    "- Consider what would be the maximum stock available. We will test by making a ridiculously large order. \n",
    "- Items contain multiple (often overlapping) ingredients. So if cheese is sold out, then cheeseburgers and lasagna would not be available, but meatballs would still be available). \n",
    "- Ensure that you can recommend at least one meal to the customer. \n",
    "- You can make a larger menu but remember to test it for legibility and usability. \n",
    "\n",
    "**Challenge** Store the order in a file before the program exits and give the user an 'order number'. Then if they run the program again and present the correct order number (and the correct telephone number) it will print a duplicate receipt.  \n",
    "\n",
    "Some things you'll want to consider about your data structure: \n",
    "\n",
    "- How are you storing the order? As a list? As an object of the Order class? \n",
    "- What will you do with bad input and how will you make the text input as easy as possible?  \n",
    "- How will you manage the inventory so that you will know which goods include which ingredients? \n",
    "- What if you had to expand the list of menu items. How hard would that be with your program? \n",
    "- Does the program end gracefully? \n",
    "- Will your printing of output be attractive and easy to read?"
   ]
  }
 ],
 "metadata": {
  "kernelspec": {
   "display_name": "Python 3 (ipykernel)",
   "language": "python",
   "name": "python3"
  },
  "language_info": {
   "codemirror_mode": {
    "name": "ipython",
    "version": 3
   },
   "file_extension": ".py",
   "mimetype": "text/x-python",
   "name": "python",
   "nbconvert_exporter": "python",
   "pygments_lexer": "ipython3",
   "version": "3.9.7"
  }
 },
 "nbformat": 4,
 "nbformat_minor": 4
}
