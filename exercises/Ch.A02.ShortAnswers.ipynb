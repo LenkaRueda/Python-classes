{
 "cells": [
  {
   "cell_type": "markdown",
   "metadata": {},
   "source": [
    "# Answers to short questions \n",
    "\n",
    "[![Binder](https://mybinder.org/badge.svg)](https://mybinder.org/v2/gh/berniehogan/introducingpython/main?filepath=exercises%2FCh.A02.ShortAnswers.ipynb)\n",
    "[![Colab](https://colab.research.google.com/assets/colab-badge.svg)](https://colab.research.google.com/github/berniehogan/introducingpython/blob/main/exercises/Ch.A02.ShortAnswers.ipynb)\n",
    "\n",
    "These are in a different sheet so you can avoid them until you need them."
   ]
  },
  {
   "cell_type": "markdown",
   "metadata": {},
   "source": [
    "# Chapter 1. Introducing Python "
   ]
  },
  {
   "cell_type": "markdown",
   "metadata": {},
   "source": [
    "# Chapter 2. Data Types"
   ]
  },
  {
   "cell_type": "markdown",
   "metadata": {},
   "source": [
    "## Practicing making strings\n",
    "\n",
    "The first few exercises are just to warm you up to working with strings. "
   ]
  },
  {
   "cell_type": "markdown",
   "metadata": {},
   "source": [
    "### Debug one"
   ]
  },
  {
   "cell_type": "code",
   "execution_count": null,
   "metadata": {},
   "outputs": [],
   "source": [
    "print(\"So this is how we start, eh?\")"
   ]
  },
  {
   "cell_type": "markdown",
   "metadata": {},
   "source": [
    "### Debug two"
   ]
  },
  {
   "cell_type": "code",
   "execution_count": null,
   "metadata": {},
   "outputs": [],
   "source": [
    "print(\"Well, \\\"so far so good\\\", as I like to say\")"
   ]
  },
  {
   "cell_type": "markdown",
   "metadata": {},
   "source": [
    "### Debug three"
   ]
  },
  {
   "cell_type": "code",
   "execution_count": null,
   "metadata": {},
   "outputs": [],
   "source": [
    "print(\"This should be line 1.\\nThis should be line 2.\")"
   ]
  },
  {
   "cell_type": "markdown",
   "metadata": {},
   "source": [
    "## Making a greeting\n",
    "\n",
    "With this exercise, you should learn about string insertions. \n",
    "We will do them three ways: \n",
    "1. Using a + to concatenate the strings\n",
    "2. Using `\"<str>{<VAR>}\".format()`\n",
    "3. Using `f\"{<var}\"`\n",
    "\n",
    "All three different approaches should print:\n",
    "\n",
    "`<greeting>! My name is <name> and I'm from <origin>. Someday I hope to get to <destination>, got any suggestions?`\n",
    "\n",
    "Remember you can check on https://pyformat.info/ "
   ]
  },
  {
   "cell_type": "code",
   "execution_count": null,
   "metadata": {},
   "outputs": [],
   "source": [
    "# Answer\n",
    "\n",
    "greeting = 'Greetings Earthlings'\n",
    "name = 'Lrrr'\n",
    "origin = 'Omacron Persei 8'\n",
    "destination = 'Earth' \n",
    "\n",
    "# First using a +, as in print(var+var+var...)\n",
    "\n",
    "st1 = greeting + \"! My name is \"+ name + \" and I'm from \" + origin + \". Someday I hope to get to \" + destination + \", got any suggestions?\"\n",
    "\n",
    "# Second using .format, as in  print(\"{}\".format(vars))\n",
    "\n",
    "st2 = \"{}! My name is {} and I'm from {}. Someday I hope to get to {}, got any suggestions?\".format(greeting, name, origin, destination)\n",
    "\n",
    "# Third using f insertions, as in print(f\"{var}{var}\")\n",
    "\n",
    "st3 = f\"{greeting}! My name is {name} and I'm from {origin}. Someday I hope to get to {destination}, got any suggestions?\"\n",
    "\n",
    "print(st1 == st2 == st3)\n",
    "print(st1)"
   ]
  },
  {
   "cell_type": "markdown",
   "metadata": {},
   "source": [
    "# Chapter 3. Collections\n",
    "\n",
    "Below are some exercises for the chapter on collections. "
   ]
  },
  {
   "cell_type": "code",
   "execution_count": null,
   "metadata": {},
   "outputs": [],
   "source": [
    "a   a   a   a   a\n",
    "  c   c   c   c\n",
    "r   r   r   r   r\n",
    "  o   o   o   o\n",
    "b   b   b   b   b\n",
    "  a   a   a   a\n",
    "t   t   t   t   t\n",
    "  s   s   s   s"
   ]
  },
  {
   "cell_type": "code",
   "execution_count": null,
   "metadata": {},
   "outputs": [],
   "source": [
    "# Answer using only list lookups\n",
    "\n",
    "word = \"acrobats\"\n",
    "print((word[0] + \"   \")*5) \n",
    "print(\"  \" + (word[1] + \"   \")*4) \n",
    "print((word[2] + \"   \")*5) \n",
    "print(\"  \" + (word[3] + \"   \")*4) \n",
    "print((word[4] + \"   \")*5) \n",
    "print(\"  \" + (word[5] + \"   \")*4) \n",
    "print((word[6] + \"   \")*5) \n",
    "print(\"  \" + (word[7] + \"   \")*4) "
   ]
  },
  {
   "cell_type": "markdown",
   "metadata": {},
   "source": [
    "## A Table of Muppets \n",
    "\n",
    "The following questions use a table of values with some details from key Muppet characters in the show \"The Muppet Show\". We have the data in one form which is just raw text, which we will clean up so we can ask questions about it. "
   ]
  },
  {
   "cell_type": "code",
   "execution_count": null,
   "metadata": {},
   "outputs": [],
   "source": [
    "# Example answer (without for loop)\n",
    "muppet_list = muppet_text.strip().split(\"\\n\")\n",
    "\n",
    "muppet_list[0] = muppet_list[0].split(\"\\t\")\n",
    "muppet_list[1] = muppet_list[1].split(\"\\t\")\n",
    "muppet_list[2] = muppet_list[2].split(\"\\t\")\n",
    "muppet_list[3] = muppet_list[3].split(\"\\t\")\n",
    "muppet_list[4] = muppet_list[4].split(\"\\t\")\n",
    "muppet_list[5] = muppet_list[5].split(\"\\t\")\n",
    "muppet_list[6] = muppet_list[6].split(\"\\t\")\n",
    "muppet_list[7] = muppet_list[7].split(\"\\t\")\n",
    "muppet_list[8] = muppet_list[8].split(\"\\t\")\n",
    "print(muppet_list)"
   ]
  },
  {
   "cell_type": "markdown",
   "metadata": {},
   "source": [
    "### Separating the header from the rest. \n",
    "\n",
    "Take muppet_list and then slice it so that you have two lists:\n",
    "`muppet_header` is only of length one, it's the header. `muppet_data` is the other list and contains the remianing elements. Check that the length of `muppet_data` is `8`. "
   ]
  },
  {
   "cell_type": "code",
   "execution_count": null,
   "metadata": {},
   "outputs": [],
   "source": [
    "# 2.3 Separating the header from the rest. \n",
    "\n",
    "# Answer \n",
    "muppet_header = muppet_list[0] \n",
    "muppet_data = muppet_list[1:]\n",
    "\n",
    "print(f\"It is {len(muppet_data) == 8} that the Muppet Data has 8 rows\")\n"
   ]
  },
  {
   "cell_type": "markdown",
   "metadata": {},
   "source": [
    "### Transforming the `muppet_data` into a `muppet_dict`"
   ]
  },
  {
   "cell_type": "code",
   "execution_count": null,
   "metadata": {},
   "outputs": [],
   "source": [
    "# Answer\n",
    "\n",
    "m_dict = {} \n",
    "\n",
    "m_dict[muppet_data[0][0]] = muppet_data[0][1:]\n",
    "m_dict[muppet_data[1][0]] = muppet_data[1][1:]\n",
    "m_dict[muppet_data[2][0]] = muppet_data[2][1:]\n",
    "m_dict[muppet_data[3][0]] = muppet_data[3][1:]\n",
    "m_dict[muppet_data[4][0]] = muppet_data[4][1:]\n",
    "m_dict[muppet_data[5][0]] = muppet_data[5][1:]\n",
    "m_dict[muppet_data[6][0]] = muppet_data[6][1:]\n",
    "m_dict[muppet_data[7][0]] = muppet_data[7][1:]\n",
    "\n",
    "print(f\"It is {len(m_dict.keys())==8} that the muppet_dict has 8 keys.\")"
   ]
  },
  {
   "cell_type": "markdown",
   "metadata": {},
   "source": [
    "### Query the muppet data (Tougher bonus challenge)\n"
   ]
  },
  {
   "cell_type": "code",
   "execution_count": null,
   "metadata": {},
   "outputs": [],
   "source": [
    "# Example answer \n",
    "\n",
    "user_input = input(\"Which muppet do you want to profile:\")\n",
    "\n",
    "gen = m_dict[user_input][0]\n",
    "sp = m_dict[user_input][1]\n",
    "fa = m_dict[user_input][2]\n",
    "print(f\"Character:\\n\\t{user_input}\\nProfle:\\n\\tGender: {gen}\\n\\tSpecies: {sp}\\n\\tFirst Appearance: {fa}\")"
   ]
  },
  {
   "cell_type": "markdown",
   "metadata": {},
   "source": [
    "# Flow control"
   ]
  },
  {
   "cell_type": "markdown",
   "metadata": {},
   "source": [
    "## Fozzie Bear! "
   ]
  },
  {
   "cell_type": "code",
   "execution_count": null,
   "metadata": {},
   "outputs": [],
   "source": [
    "# Answer below here: \n",
    "for i in range(1, 31):\n",
    "    if not i % 3:\n",
    "        if not i % 5 :\n",
    "            print(f'{i}. Fozzie Bear')\n",
    "        else:\n",
    "            print(f'{i}. Fozzie')\n",
    "    elif i % 5 == 0:\n",
    "        print(f'{i}. Bear')"
   ]
  },
  {
   "cell_type": "markdown",
   "metadata": {},
   "source": [
    "## List (and dictionary) comprehension practice"
   ]
  },
  {
   "cell_type": "code",
   "execution_count": null,
   "metadata": {},
   "outputs": [],
   "source": [
    "# 3a. Loop 1. The simplest example.\n",
    "\n",
    "ex_list = []\n",
    "for i in range(1,10): \n",
    "    ex_list.append(i)\n",
    "    \n",
    "# List comprehension\n",
    "\n",
    "lc_ex_list = [i for i in range(1,10)]\n",
    "\n",
    "\n",
    "# Check yout answer: (should be True)\n",
    "print(lc_ex_list == ex_list)"
   ]
  },
  {
   "cell_type": "code",
   "execution_count": null,
   "metadata": {},
   "outputs": [],
   "source": [
    "# 3b. Loop 2. An example with an if statement (i.e. a 'conditional')\n",
    "\n",
    "every_second_list = []\n",
    "for i in range(1,10): \n",
    "    if i%2 == 0:\n",
    "        every_second_list.append(i)\n",
    "\n",
    "# List comprehension \n",
    "lc_every_second_list = [i for i in range(1,10) if i%2 == 0]\n",
    "\n",
    "# Check your answer: (should be True)\n",
    "print(lc_every_second_list == every_second_list)"
   ]
  },
  {
   "cell_type": "code",
   "execution_count": null,
   "metadata": {},
   "outputs": [],
   "source": [
    "# 3c. Loop 3. An example with calculation\n",
    "\n",
    "powers_of_two_list = [] \n",
    "for i in range(10):\n",
    "    powers_of_two_list.append(i**2)\n",
    "\n",
    "# List comprehension\n",
    "\n",
    "lc_powers_of_two_list = [i**2 for i in range(10)]\n",
    "\n",
    "\n",
    "# Check your answer: (Should be True)\n",
    "print(lc_powers_of_two_list == powers_of_two_list)"
   ]
  },
  {
   "cell_type": "code",
   "execution_count": null,
   "metadata": {},
   "outputs": [],
   "source": [
    "# 3d. Loop 4. A Dictionary Comprehension\n",
    "\n",
    "old_list = [\"zeroith\",\"first\",\"what's zeroith?\",\"Am I third or fourth?\"]\n",
    "new_dict = {} \n",
    "\n",
    "for c,i in enumerate(old_list): \n",
    "        new_dict[c] = i\n",
    "\n",
    "# Dictionary comprehension\n",
    "\n",
    "\n",
    "dc_new_dict = {c:i for c,i in enumerate(old_list)}\n",
    "\n",
    "# Check your answer: (Should be True)\n",
    "print(new_dict == dc_new_dict)\n"
   ]
  },
  {
   "cell_type": "markdown",
   "metadata": {},
   "source": [
    "## Code refactoring I\n",
    "\n",
    "In addition to these, just a reminder that all of the exercises in the previous section (for the chapter on collections) that have repetitive code can benefit from loops. Have a look at the answers for these and see if you can refactor them to use loops. The answers with loops are provided below here "
   ]
  },
  {
   "cell_type": "markdown",
   "metadata": {},
   "source": [
    "### Concrete poetry with a for loop"
   ]
  },
  {
   "cell_type": "code",
   "execution_count": null,
   "metadata": {},
   "outputs": [],
   "source": [
    "# Answer using for loops \n",
    "\n",
    "for c,w in enumerate(word):\n",
    "    if c%2==1: \n",
    "        print(\"  \" + (w + \"   \")*4)\n",
    "    else:\n",
    "        print((w + \"   \")*5) \n"
   ]
  },
  {
   "cell_type": "code",
   "execution_count": null,
   "metadata": {},
   "outputs": [],
   "source": [
    "# Here's the densest I can make it. \n",
    "for c,i in enumerate(\"acrobats\"):\n",
    "    print(f\"{i}   \"*5 if c%2 == 0 else \"  \" + f\"{i}   \"*4)"
   ]
  },
  {
   "cell_type": "markdown",
   "metadata": {},
   "source": [
    "### The Muppets data cleaning with for loops\n",
    "\n",
    "Recall this one had several steps. Try doing them all in a single cell to get from `muppet_text` to `muppet_dict`. "
   ]
  },
  {
   "cell_type": "code",
   "execution_count": null,
   "metadata": {},
   "outputs": [],
   "source": [
    "muppet_text = '''\n",
    "name\tgender\tspecies\tfirst_appearance\n",
    "Fozzie\tMale\tBear\t1976\n",
    "Kermit\tMale\tFrog\t1955\n",
    "Piggy\tFemale\tPig\t1974\n",
    "Gonzo\tMale\tUnknown\t1970\n",
    "Rowlf\tMale\tDog\t1962\n",
    "Beaker\tMale\tMuppet\t1977\n",
    "Janice\tFemale\tMuppet\t1975\n",
    "Hilda\tFemale\tMuppet\t1976'''"
   ]
  },
  {
   "cell_type": "code",
   "execution_count": null,
   "metadata": {},
   "outputs": [],
   "source": [
    "# Example answer with some for loops \n",
    "\n",
    "m_dict = {} \n",
    "header_row = True\n",
    "\n",
    "for row in muppet_text.strip().split(\"\\n\"):\n",
    "    if header_row: \n",
    "        muppet_header = row.split(\"\\t\")\n",
    "        header_row = False\n",
    "        continue\n",
    "    row = row.split(\"\\t\")\n",
    "    m_dict[row[0]] = row[1:]\n",
    "\n",
    "m_dict"
   ]
  },
  {
   "cell_type": "code",
   "execution_count": null,
   "metadata": {},
   "outputs": [],
   "source": [
    "# Example answer (with for dictionary comprehension)\n",
    "# Notice with this one you have to do the header row separately. \n",
    "# I just excluded that from here. \n",
    "\n",
    "m_dict = {i.split(\"\\t\")[0]:i.split(\"\\t\")[1:] \n",
    "               for i in muppet_text.strip().split(\"\\n\")[1:]}\n",
    "\n",
    "print(m_dict)"
   ]
  },
  {
   "cell_type": "markdown",
   "metadata": {},
   "source": [
    "### Making the profile display more robust\n",
    "\n",
    "Try then to do the profiling code with a `while` statement for user input. Here you can now use elif  statements to do somethings in different cases, such as check for valid input and keep going until the user types `quit` or `x`, etc. "
   ]
  },
  {
   "cell_type": "code",
   "execution_count": null,
   "metadata": {},
   "outputs": [],
   "source": [
    "while True: \n",
    "    user_input = input(\"Which muppet do you want to profile:(x to quit)\")\n",
    "    \n",
    "    if user_input.lower() == \"l\":\n",
    "        print (\"\\n\".join(m_dict.keys()))\n",
    "    elif user_input.lower() == \"x\":\n",
    "        break\n",
    "    elif user_input in m_dict.keys(): \n",
    "        gen = m_dict[user_input][0]\n",
    "        sp = m_dict[user_input][1]\n",
    "        fa = m_dict[user_input][2]\n",
    "        print(f\"Character:\\n\\t{user_input}\\nProfle:\\n\\tGender: {gen}\\n\\tSpecies {sp}\\n\\tFirst Appearance: {fa}\")\n",
    "    else: \n",
    "        print(\"That was not a valid name. Type L to see names of muppets.\")"
   ]
  },
  {
   "cell_type": "markdown",
   "metadata": {},
   "source": [
    "# Chapter 5. Functions and classes"
   ]
  },
  {
   "cell_type": "markdown",
   "metadata": {
    "jupyter": {
     "outputs_hidden": false
    }
   },
   "source": [
    "## Who said programming was better than flipping burgers?  "
   ]
  },
  {
   "cell_type": "code",
   "execution_count": null,
   "metadata": {
    "collapsed": false,
    "jupyter": {
     "outputs_hidden": false
    }
   },
   "outputs": [],
   "source": [
    "# Answer Below here. \n",
    "\n",
    "def burger_order(bun = \"white\", patty = \"beef\", toppings = []):\n",
    "    receipt = \"\\n***Burger Order***\\n\\n\\n\"\n",
    "    \n",
    "    receipt += \"Bun: %s\\n\" % bun\n",
    "    receipt += \"Patty: %s\\n\" % patty\n",
    "    if len(toppings) > 0: \n",
    "        receipt += \"Extras:\\n\"\n",
    "        for i in toppings: \n",
    "            receipt += \"- %s\\n\" % i\n",
    "    \n",
    "    return receipt\n",
    "    \n",
    "\n",
    "#********** END ANSWER ************"
   ]
  },
  {
   "cell_type": "code",
   "execution_count": null,
   "metadata": {
    "collapsed": false,
    "jupyter": {
     "outputs_hidden": false
    }
   },
   "outputs": [],
   "source": [
    "# Testing code. Check the output of this code with the strings provided.\n",
    "\n",
    "default_burger = burger_order()\n",
    "print(default_burger)\n",
    "# output should be: \n",
    "'''\n",
    "***Burger Order***\n",
    "\n",
    "Bun: white\n",
    "Patty: beef\n",
    "'''\n",
    "\n",
    "cheese_burger = burger_order(toppings = [\"chesse\"])\n",
    "print(cheese_burger)\n",
    "# output should be: \n",
    "'''\n",
    "***Burger Order***\n",
    "\n",
    "Bun: white\n",
    "Patty: beef\n",
    "Extras: \n",
    "- cheese\n",
    "'''\n",
    "\n",
    "super_burger = burger_order(bun=\"whole wheat\",toppings =[\"cheese\",\"lettuce\",\"tomato\",\"pickle\"])\n",
    "print(super_burger)\n",
    "# output should be: \n",
    "'''\n",
    "***Burger Order***\n",
    "\n",
    "Bun: whole wheat\n",
    "Patty: beef\n",
    "Extras: \n",
    "- cheese\n",
    "- lettuce\n",
    "- tomato\n",
    "- pickle\n",
    "'''\n",
    "\n",
    "chicken_burger = burger_order(toppings=[\"lettuce\",\"tomato\"],patty = \"chicken\")\n",
    "print(chicken_burger)\n",
    "# output should be: \n",
    "'''\n",
    "***Burger Order***\n",
    "\n",
    "Bun: white\n",
    "Patty: chicken\n",
    "Extras: \n",
    "- lettuce\n",
    "- tomato\n",
    "'''\n",
    "\n",
    "health_burger = burger_order(\"gluten-free\",\"veggie\",[\"lettuce\",\"tomato\",\"pickle\"])\n",
    "print(health_burger)\n",
    "# output should be: \n",
    "'''\n",
    "***Burger Order***\n",
    "\n",
    "Bun: gluten-free\n",
    "Patty: veggie\n",
    "extras:\n",
    "- lettuce\n",
    "- tomato\n",
    "- pickle\n",
    "''';"
   ]
  }
 ],
 "metadata": {
  "kernelspec": {
   "display_name": "Python 3 (ipykernel)",
   "language": "python",
   "name": "python3"
  },
  "language_info": {
   "codemirror_mode": {
    "name": "ipython",
    "version": 3
   },
   "file_extension": ".py",
   "mimetype": "text/x-python",
   "name": "python",
   "nbconvert_exporter": "python",
   "pygments_lexer": "ipython3",
   "version": "3.9.7"
  }
 },
 "nbformat": 4,
 "nbformat_minor": 4
}
