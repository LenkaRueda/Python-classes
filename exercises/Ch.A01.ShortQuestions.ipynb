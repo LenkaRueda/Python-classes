{
 "cells": [
  {
   "cell_type": "markdown",
   "metadata": {},
   "source": [
    "Below are some short exercises to check your knowledge of the topics introduced in each of the chapters. Each section corresponds to one of the prior chapters in the book. After these are two more appendices. Appendix 2 is just this appendix but with some example code for answers for the questions below. Finally, in Appendix 3 is is a series of longer creative exercises that you might want to attempt with skills from this book. They are marked by which skills you would reasonably need to try your hand at the exercise.\n",
    "\n",
    "In many cases I have provided some starter code and you should finish that code. You'll see where you should finish with an `...` or a similar sort of marker."
   ]
  },
  {
   "cell_type": "markdown",
   "metadata": {},
   "source": [
    "# Chapter 1. Introducing Python "
   ]
  },
  {
   "cell_type": "markdown",
   "metadata": {},
   "source": [
    "Just one question here: Is this running in Jupyter lab? "
   ]
  },
  {
   "cell_type": "markdown",
   "metadata": {},
   "source": [
    "# Chapter 2. Data Types"
   ]
  },
  {
   "cell_type": "markdown",
   "metadata": {},
   "source": [
    "## Practicing making strings\n",
    "\n",
    "The first few exercises are just to warm you up to working with strings. "
   ]
  },
  {
   "cell_type": "markdown",
   "metadata": {},
   "source": [
    "### Debug one"
   ]
  },
  {
   "cell_type": "code",
   "execution_count": null,
   "metadata": {},
   "outputs": [],
   "source": [
    "print \"So this is how we start, eh?\""
   ]
  },
  {
   "cell_type": "markdown",
   "metadata": {},
   "source": [
    "### Debug two"
   ]
  },
  {
   "cell_type": "code",
   "execution_count": null,
   "metadata": {},
   "outputs": [],
   "source": [
    "print(\"Well, \"so far so good\", as I like to say\")"
   ]
  },
  {
   "cell_type": "markdown",
   "metadata": {},
   "source": [
    "### Debug three"
   ]
  },
  {
   "cell_type": "code",
   "execution_count": null,
   "metadata": {},
   "outputs": [],
   "source": [
    "print(\"This should be line 1.\"\\n\"This should be line 2.\")"
   ]
  },
  {
   "cell_type": "markdown",
   "metadata": {},
   "source": [
    "## Making a greeting\n",
    "\n",
    "With this exercise, you should learn about string insertions. \n",
    "We will do them three ways: \n",
    "\n",
    "1. Using a + to concatenate the strings\n",
    "2. Using `\"<str>{<VAR>}\".format()`\n",
    "3. Using `f\"{<var}\"`\n",
    "\n",
    "All three different approaches should print:\n",
    "\n",
    "`<greeting>! My name is <name> and I'm from <origin>. Someday I hope to get to <destination>, got any suggestions?`\n",
    "\n",
    "Remember you can check on https://pyformat.info/ "
   ]
  },
  {
   "cell_type": "code",
   "execution_count": null,
   "metadata": {},
   "outputs": [],
   "source": [
    "greeting = ''\n",
    "name = ''\n",
    "origin = ''\n",
    "destination = '' \n",
    "\n",
    "# First using a +, as in print(var+var+var...)\n",
    "st1 = ...\n",
    "\n",
    "# Second using .format, as in  print(\"{}\".format(vars))\n",
    "\n",
    "st2 = ...\n",
    "# Third using f insertions, as in print(f\"{var}{var}\")\n",
    "\n",
    "st3 = ...\n",
    "\n",
    "print(st1 == st2 == st3)\n",
    "print(st1)\n"
   ]
  },
  {
   "cell_type": "markdown",
   "metadata": {},
   "source": [
    "# Chapter 3. Collections\n",
    "\n",
    "Below are some exercises for the chapter on collections. "
   ]
  },
  {
   "cell_type": "markdown",
   "metadata": {},
   "source": [
    "## Building an algorithm to reproduce concrete poetry\n",
    "\n",
    "There's not much you can do in Python exclusively by printing strings. However, I thought this would be a nice opportunity to produce some concrete poetry. Concrete poetry means the visual arrangement of the words has meaning as do the words. Ian Hamilton Finlay is a Scottish concrete poet. Below I have pasted a version of his poem \"acrobats\" as excerpted from Cockburn K. and Finlay, A (2001) _The Order of Things_. Edinburgh, UK: Pocketbooks."
   ]
  },
  {
   "cell_type": "code",
   "execution_count": null,
   "metadata": {},
   "outputs": [],
   "source": [
    "a   a   a   a   a\n",
    "  c   c   c   c\n",
    "r   r   r   r   r\n",
    "  o   o   o   o\n",
    "b   b   b   b   b\n",
    "  a   a   a   a\n",
    "t   t   t   t   t\n",
    "  s   s   s   s"
   ]
  },
  {
   "cell_type": "markdown",
   "metadata": {},
   "source": [
    "Using only a variable `word = \"acrobats\"`, string insertions, spaces, and lists, try to print a reproduction of the poem. \n",
    "\n",
    "In this version, the answer below should be done _without_ `for` loops or `if` statements, which means it will likely have some repetition. Your goal is to minimise that repetition even if you can't eliminate it. "
   ]
  },
  {
   "cell_type": "code",
   "execution_count": null,
   "metadata": {},
   "outputs": [],
   "source": [
    "# Complete the answer: (I wrote some code to get you started)\n",
    "\n",
    "word = \"acrobats\"\n",
    "print((word[0] + \"   \")*5) \n",
    "...\n",
    "...;"
   ]
  },
  {
   "cell_type": "markdown",
   "metadata": {},
   "source": [
    "## A Table of Muppets \n",
    "\n",
    "The following questions use a table of values with some details from key Muppet characters in the show \"The Muppet Show\". We have the data in one form which is just raw text, which we will clean up so we can ask questions about it. "
   ]
  },
  {
   "cell_type": "markdown",
   "metadata": {},
   "source": [
    "### Splitting strings into lists\n",
    "\n",
    "This data is presented as a string. It is structured as what we call tab-separated values (`.tsv`). Let's change it so that it is a list of lists. Below you can do this without a `for` loop as that is featured in the subsequent chapter. It will be important to think of how you deploy the `.split()` method since you will need to split both by line and then within line. \n",
    "\n",
    "Doing this without a for loop might involve using nine repetitions of basically the same code. So I will show that and I will also include a `for` loop version. \n",
    "\n",
    "Your final data structure should have nine elements. Each one will be a row with data. If you have 11 check that you have not included lines for the empty top and bottom lines of the text. "
   ]
  },
  {
   "cell_type": "code",
   "execution_count": null,
   "metadata": {},
   "outputs": [],
   "source": [
    "    \n",
    "muppet_text = '''\n",
    "name\tgender\tspecies\tfirst_appearance\n",
    "Fozzie\tMale\tBear\t1976\n",
    "Kermit\tMale\tFrog\t1955\n",
    "Piggy\tFemale\tPig\t1974\n",
    "Gonzo\tMale\tUnknown\t1970\n",
    "Rowlf\tMale\tDog\t1962\n",
    "Beaker\tMale\tMuppet\t1977\n",
    "Janice\tFemale\tMuppet\t1975\n",
    "Hilda\tFemale\tMuppet\t1976\n",
    "'''\n",
    "\n",
    "# Complete this answer: \n",
    "\n",
    "muppet_list = [...]*9 #Replace [...]*9 with your answer\n",
    "\n",
    "muppet_list[0] = ... \n",
    "muppet_list[1] = ...\n",
    "\n",
    "\n",
    "print(muppet_list)"
   ]
  },
  {
   "cell_type": "markdown",
   "metadata": {},
   "source": [
    "### Separating the header from the rest. \n",
    "\n",
    "Take muppet_list and then slice it so that you have two lists:\n",
    "`muppet_header` is only of length one, it's the header. `muppet_data` is the other list and contains the remianing elements. Check that the length of `muppet_data` is `8`. "
   ]
  },
  {
   "cell_type": "code",
   "execution_count": null,
   "metadata": {},
   "outputs": [],
   "source": [
    "# Answer \n",
    "muppet_header = ...\n",
    "muppet_data = '...'\n",
    "\n",
    "print(f\"It is {len(muppet_data) == 8} that the Muppet Data has 8 rows\")"
   ]
  },
  {
   "cell_type": "markdown",
   "metadata": {},
   "source": [
    "### Transforming the `muppet_data` into a `muppet_dict`\n",
    "\n",
    "At this point, we should have 8 lists in a data structure called `muppet_data`. The first element in this list is the name, followed by three data points (`gender`, `species`, `first_appearance`).\n",
    "\n",
    "Transform each line into a dictionary entry so that the whole  dictionary will look something like this: \n",
    "\n",
    "~~~ python\n",
    "muppet_dict = {\"Fozzie\":[\"Male\",\"Bear\",1976], \n",
    "               \"Kermit\": ..., \n",
    "               ...}'''\n",
    "~~~\n",
    "\n",
    "To create this dictionary you might need to repeat lines of code while only changing the indices. \n",
    "\n",
    "This will be the last repetitive code example to complete. I will give fewer instructions here. If you know loops, you can try them here, but I am assuming you have not skipped to chapter 3. In case you have, know that I provide two answers to this in the next appendix. One with and one without loops.  "
   ]
  },
  {
   "cell_type": "code",
   "execution_count": null,
   "metadata": {},
   "outputs": [],
   "source": [
    "# Answer\n",
    "\n",
    "m_dict = {} \n",
    "\n",
    "m_dict[muppet_data[0][0]] = ...\n",
    "m_dict[muppet_data[1][0]] = ...\n",
    "...\n",
    "\n",
    "print(m_dict)\n",
    "print(f\"It is {len(m_dict.keys())==8} that the muppet_dict has 8 keys.\")"
   ]
  },
  {
   "cell_type": "markdown",
   "metadata": {},
   "source": [
    "### Query the muppet data (Tougher bonus challenge)\n",
    "\n",
    "Use the following code pattern: \n",
    "\n",
    "~~~ python\n",
    "user_input = input(\"Which muppet do you want to profile:\")\n",
    "~~~ \n",
    "    \n",
    "Then take the data from `user_input` and print a profile of the muppet in the following form:  "
   ]
  },
  {
   "cell_type": "raw",
   "metadata": {},
   "source": [
    "Character: \n",
    "    Fozzie\n",
    "Profile: \n",
    "    Gender: Male\n",
    "    Species: Bear\n",
    "    First Appearance: 1976"
   ]
  },
  {
   "cell_type": "markdown",
   "metadata": {},
   "source": [
    "Consider printing a list of all muppets (i.e. all keys from the dictionary) before asking for user input so the user can get the correct spelling. You might find other ways to make this robust, especially after reading in the later chapters. "
   ]
  },
  {
   "cell_type": "code",
   "execution_count": null,
   "metadata": {},
   "outputs": [],
   "source": [
    "user_input = input(\"Which muppet do you want to profile:\")\n",
    "\n",
    "print(...)"
   ]
  },
  {
   "cell_type": "markdown",
   "metadata": {},
   "source": [
    "# Flow control"
   ]
  },
  {
   "cell_type": "markdown",
   "metadata": {},
   "source": [
    "## Fozzie Bear! \n",
    "\n",
    "This is based on the classic coding challenge, \"Fizz Buzz\". To cheat or compare answers see: https://wiki.c2.com/?FizzBuzzTest. I, like many instructors, like to use FizzBuzz because you cannot simply make it work with one loop and one if statement. Here goes: \n",
    "\n",
    "Make a program that spits out numbers and the words Fozzie Bear. \n",
    "\n",
    "- If the line is a multiple of 3 print the line number + Fozzie, like `6. Fozzie\n",
    "- If the line is a multiple of 5 print the line number + Bear, like `10. Bear`\n",
    "- If the line is a multiple of both, print a line number + both words, like `15. Fozzie Bear` \n",
    "- Otherwise do not print anything. \n",
    "\n",
    "Have the program run in the range 1 to 30 inclusive (so I should read `30. Fozzie Bear` as the final line. "
   ]
  },
  {
   "cell_type": "code",
   "execution_count": null,
   "metadata": {},
   "outputs": [],
   "source": [
    "# Answer below here: \n"
   ]
  },
  {
   "cell_type": "markdown",
   "metadata": {},
   "source": [
    "## List (and dictionary) comprehension practice"
   ]
  },
  {
   "cell_type": "code",
   "execution_count": null,
   "metadata": {},
   "outputs": [],
   "source": [
    "# 3a. Loop 1. The simplest example.\n",
    "\n",
    "ex_list = []\n",
    "for i in range(1,10): \n",
    "    ex_list.append(i)\n",
    "    \n",
    "# List comprehension\n",
    "\n",
    "lc_ex_list = ...\n",
    "\n",
    "\n",
    "# Check yout answer: (should be True)\n",
    "print(lc_ex_list == ex_list)"
   ]
  },
  {
   "cell_type": "code",
   "execution_count": null,
   "metadata": {},
   "outputs": [],
   "source": [
    "# 3b. Loop 2. An example with an if statement (i.e. a 'conditional')\n",
    "\n",
    "every_second_list = []\n",
    "for i in range(1,10): \n",
    "    if i%2 == 0:\n",
    "        every_second_list.append(i)\n",
    "\n",
    "# List comprehension \n",
    "\n",
    "lc_every_second_list = ... \n",
    "\n",
    "# Check your answer: (should be True)\n",
    "print(lc_every_second_list == every_second_list)"
   ]
  },
  {
   "cell_type": "code",
   "execution_count": null,
   "metadata": {},
   "outputs": [],
   "source": [
    "# 3c. Loop 3. An example with calculation\n",
    "\n",
    "powers_of_two_list = [] \n",
    "for i in range(10):\n",
    "    powers_of_two_list.append(i**2)\n",
    "\n",
    "# List comprehension\n",
    "\n",
    "lc_powers_of_two_list = ...\n",
    "\n",
    "\n",
    "# Check your answer: (Should be True)\n",
    "print(lc_powers_of_two_list == powers_of_two_list)"
   ]
  },
  {
   "cell_type": "code",
   "execution_count": null,
   "metadata": {},
   "outputs": [],
   "source": [
    "# 3d. Loop 4. A Dictionary Comprehension\n",
    "\n",
    "old_list = [\"zeroith\",\"first\",\"what's zeroith?\",\"Am I third or fourth?\"]\n",
    "new_dict = {} \n",
    "\n",
    "for c,i in enumerate(old_list): \n",
    "        new_dict[c] = i\n",
    "\n",
    "# Dictionary comprehension\n",
    "\n",
    "\n",
    "dc_new_dict = ...\n",
    "\n",
    "# Check your answer: (Should be True)\n",
    "print(new_dict == dc_new_dict)\n"
   ]
  },
  {
   "cell_type": "markdown",
   "metadata": {},
   "source": [
    "## Code refactoring I\n",
    "\n",
    "In addition to these, just a reminder that all of the exercises in the previous section (for the chapter on collections) that have repetitive code can benefit from loops. Have a look at the answers for these and see if you can refactor them to use loops. The answers with loops are provided below here "
   ]
  },
  {
   "cell_type": "markdown",
   "metadata": {},
   "source": [
    "### Concrete poetry with a for loop"
   ]
  },
  {
   "cell_type": "code",
   "execution_count": null,
   "metadata": {},
   "outputs": [],
   "source": [
    "word = \"acrobats\"\n",
    "\n",
    "..."
   ]
  },
  {
   "cell_type": "markdown",
   "metadata": {},
   "source": [
    "### The Muppets data cleaning with for loops\n",
    "\n",
    "Recall this one had several steps. Try doing them all in a single cell to get from `muppet_text` to `muppet_dict`. "
   ]
  },
  {
   "cell_type": "code",
   "execution_count": null,
   "metadata": {},
   "outputs": [],
   "source": [
    "muppet_text = '''\n",
    "name\tgender\tspecies\tfirst_appearance\n",
    "Fozzie\tMale\tBear\t1976\n",
    "Kermit\tMale\tFrog\t1955\n",
    "Piggy\tFemale\tPig\t1974\n",
    "Gonzo\tMale\tUnknown\t1970\n",
    "Rowlf\tMale\tDog\t1962\n",
    "Beaker\tMale\tMuppet\t1977\n",
    "Janice\tFemale\tMuppet\t1975\n",
    "Hilda\tFemale\tMuppet\t1976'''"
   ]
  },
  {
   "cell_type": "markdown",
   "metadata": {},
   "source": [
    "### Making the profile display more robust\n",
    "\n",
    "Try then to do the profiling code with a `while` statement for user input. Here you can now use elif  statements to do somethings in different cases, such as check for valid input and keep going until the user types `quit` or `x`, etc. "
   ]
  },
  {
   "cell_type": "code",
   "execution_count": null,
   "metadata": {},
   "outputs": [],
   "source": [
    "while ...: \n",
    "    user_input = input(\"Which muppet do you want to profile:(x to quit)\")\n",
    "    \n",
    "    ...\n",
    "    \n",
    "    break"
   ]
  },
  {
   "cell_type": "markdown",
   "metadata": {},
   "source": [
    "# Chapter 5. Functions and classes"
   ]
  },
  {
   "cell_type": "markdown",
   "metadata": {
    "jupyter": {
     "outputs_hidden": false
    }
   },
   "source": [
    "## Who said programming was better than flipping burgers?  \n",
    "\n",
    "Flipping burgers can be fast-paced and stressful. But poor order tickets can make it harder. Let's build a function to produce clear order tickets. \n",
    "\n",
    "All hamburgers will have a bun and a patty. \n",
    "- The default bun = \"white\"\n",
    "- The default patty = \"beef\"\n",
    "- Some hamburgers have additional toppings, they will be sent as a list e.g., toppings = [\"cheese\", \"lettuce\"] \n",
    "\n",
    "HINT: Comment out parts of the code below END ANSWER while you are building your function. Start with the simple default burger and work your way towards to other burgers. "
   ]
  },
  {
   "cell_type": "code",
   "execution_count": null,
   "metadata": {
    "collapsed": false,
    "jupyter": {
     "outputs_hidden": false
    }
   },
   "outputs": [],
   "source": [
    "# Answer Below here. \n",
    "\n",
    "def burger_order():\n",
    "    ...\n",
    "    return \n",
    "    \n",
    "\n"
   ]
  },
  {
   "cell_type": "code",
   "execution_count": null,
   "metadata": {
    "collapsed": false,
    "jupyter": {
     "outputs_hidden": false
    }
   },
   "outputs": [],
   "source": [
    "# Testing code. Check the output of this code with the strings provided.\n",
    "\n",
    "default_burger = burger_order()\n",
    "print(default_burger)\n",
    "# output should be: \n",
    "'''\n",
    "***Burger Order***\n",
    "\n",
    "Bun: white\n",
    "Patty: beef\n",
    "'''\n",
    "\n",
    "cheese_burger = burger_order(toppings = [\"chesse\"])\n",
    "print(cheese_burger)\n",
    "# output should be: \n",
    "'''\n",
    "***Burger Order***\n",
    "\n",
    "Bun: white\n",
    "Patty: beef\n",
    "Extras: \n",
    "- cheese\n",
    "'''\n",
    "\n",
    "super_burger = burger_order(bun=\"whole wheat\",toppings =[\"cheese\",\"lettuce\",\"tomato\",\"pickle\"])\n",
    "print(super_burger)\n",
    "# output should be: \n",
    "'''\n",
    "***Burger Order***\n",
    "\n",
    "Bun: whole wheat\n",
    "Patty: beef\n",
    "Extras: \n",
    "- cheese\n",
    "- lettuce\n",
    "- tomato\n",
    "- pickle\n",
    "'''\n",
    "\n",
    "chicken_burger = burger_order(toppings=[\"lettuce\",\"tomato\"],patty = \"chicken\")\n",
    "print(chicken_burger)\n",
    "# output should be: \n",
    "'''\n",
    "***Burger Order***\n",
    "\n",
    "Bun: white\n",
    "Patty: chicken\n",
    "Extras: \n",
    "- lettuce\n",
    "- tomato\n",
    "'''\n",
    "\n",
    "health_burger = burger_order(\"gluten-free\",\"veggie\",[\"lettuce\",\"tomato\",\"pickle\"])\n",
    "print(health_burger)\n",
    "# output should be: \n",
    "'''\n",
    "***Burger Order***\n",
    "\n",
    "Bun: gluten-free\n",
    "Patty: veggie\n",
    "extras:\n",
    "- lettuce\n",
    "- tomato\n",
    "- pickle\n",
    "''';"
   ]
  },
  {
   "cell_type": "markdown",
   "metadata": {
    "jupyter": {
     "outputs_hidden": false
    }
   },
   "source": [
    "### Some extensions to this include:\n",
    "- Give each order a number. Try to remember the previous order number.\n",
    "- What about using wildcard `kwargs` arguments in order to allow for any topping?\n",
    "- What about set burger types? How might these be best expressed? "
   ]
  }
 ],
 "metadata": {
  "kernelspec": {
   "display_name": "Python 3",
   "language": "python",
   "name": "python3"
  },
  "language_info": {
   "codemirror_mode": {
    "name": "ipython",
    "version": 3
   },
   "file_extension": ".py",
   "mimetype": "text/x-python",
   "name": "python",
   "nbconvert_exporter": "python",
   "pygments_lexer": "ipython3",
   "version": "3.8.5"
  }
 },
 "nbformat": 4,
 "nbformat_minor": 4
}
