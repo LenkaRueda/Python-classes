{
 "cells": [
  {
   "cell_type": "markdown",
   "metadata": {},
   "source": [
    "# Collections \n",
    "\n",
    "Python has many ways in which to organise a collection of data. Computer scientists often search for interesting ways to collect and structure data. Some reasons are to make its storage and retrieval more robust and efficient. Later on you will find some structures work better than others for a task at hand.  \n",
    "\n",
    "Here we are going to focus on three main kinds of collections which are extremely common and impressively versatile: `list`, `set`, and dictionary (or `dict`). Getting used to the logic of these three will enable you to manage a huge amount situations in programming. Other, fancier, and more abstract packages will come along for specific tasks, but these three are the most important. \n",
    "\n",
    "The thing about collections that matters most is how they associate data. Each type of collection may associate data in a different way. You might have guessed from the discussion so far that lists place data in some ordered sequence. We would say that a list orders `by position`. A set, by contrast, does not really have a notion of position. There's not element guaranteed to be first or last when you print a set. Instead, a set is ordered `by inclusion`. This means that some object or data is either in a set or not in a set. Finally a dictionary is ordered `by key`. Keys are like an index for more data. We will show what keys mean after covering lists and sets more fully first. \n",
    "\n",
    "Virtually all collections in Python are iterable. This means that you can ask for one item from the set and then keep asking until you get all the items. Sometimes the order might be different depending on the type of collection, but you will definitely get through all of them eventually. We will iterate through collections in the next chapter.  "
   ]
  },
  {
   "cell_type": "markdown",
   "metadata": {},
   "source": [
    "# Ordered by position: The `list`"
   ]
  },
  {
   "cell_type": "markdown",
   "metadata": {},
   "source": [
    "Lists are ordered collections of objects. They, like most British buildings, start at 0. The next element is 1 and so forth. \n",
    "\n",
    "Lists use square brackets as ends. So a list looks like: "
   ]
  },
  {
   "cell_type": "code",
   "execution_count": 135,
   "metadata": {},
   "outputs": [
    {
     "name": "stdout",
     "output_type": "stream",
     "text": [
      "['apples', 'bananas', 'cucumbers', 'durians']\n"
     ]
    }
   ],
   "source": [
    "list_example = [\"apples\",\"bananas\",\"cucumbers\",\"durians\"]\n",
    "print(list_example)"
   ]
  },
  {
   "cell_type": "markdown",
   "metadata": {},
   "source": [
    "And to return a single element, we can count its position and use that as an index, like so:"
   ]
  },
  {
   "cell_type": "code",
   "execution_count": 136,
   "metadata": {},
   "outputs": [
    {
     "name": "stdout",
     "output_type": "stream",
     "text": [
      "bananas\n"
     ]
    }
   ],
   "source": [
    "print(list_example[1]) "
   ]
  },
  {
   "cell_type": "markdown",
   "metadata": {},
   "source": [
    "We can also count backwards through the list using negative numbers, like so:"
   ]
  },
  {
   "cell_type": "code",
   "execution_count": 137,
   "metadata": {},
   "outputs": [
    {
     "name": "stdout",
     "output_type": "stream",
     "text": [
      "durians\n"
     ]
    }
   ],
   "source": [
    "print(list_example[-1])"
   ]
  },
  {
   "cell_type": "markdown",
   "metadata": {},
   "source": [
    "Lists have a __range__ that goes from $0$ to $n-1$ where $n$ is the number of elements. If you try to index an element that's out of the range, python will throw an error. To get the range, we can use a function called ```len``` which is short for __length__. \n",
    "\n",
    "Notice what we do below. We get the length, then use that as a variable. It will give us an error, but length minus one won't. "
   ]
  },
  {
   "cell_type": "code",
   "execution_count": 138,
   "metadata": {},
   "outputs": [
    {
     "name": "stdout",
     "output_type": "stream",
     "text": [
      "The list has 4 elements\n"
     ]
    }
   ],
   "source": [
    "list_length = len(list_example)\n",
    "\n",
    "print(\"The list has\",list_length,\"elements\")"
   ]
  },
  {
   "cell_type": "code",
   "execution_count": 142,
   "metadata": {},
   "outputs": [
    {
     "ename": "IndexError",
     "evalue": "list index out of range",
     "output_type": "error",
     "traceback": [
      "\u001b[0;31m---------------------------------------------------------------------------\u001b[0m",
      "\u001b[0;31mIndexError\u001b[0m                                Traceback (most recent call last)",
      "\u001b[0;32m<ipython-input-142-325d5d69b80d>\u001b[0m in \u001b[0;36m<module>\u001b[0;34m\u001b[0m\n\u001b[1;32m      1\u001b[0m \u001b[0;31m# This should give an InderError\u001b[0m\u001b[0;34m\u001b[0m\u001b[0;34m\u001b[0m\u001b[0;34m\u001b[0m\u001b[0m\n\u001b[0;32m----> 2\u001b[0;31m \u001b[0mprint\u001b[0m\u001b[0;34m(\u001b[0m\u001b[0mlist_example\u001b[0m\u001b[0;34m[\u001b[0m\u001b[0mlist_length\u001b[0m\u001b[0;34m]\u001b[0m\u001b[0;34m)\u001b[0m\u001b[0;34m\u001b[0m\u001b[0;34m\u001b[0m\u001b[0m\n\u001b[0m",
      "\u001b[0;31mIndexError\u001b[0m: list index out of range"
     ]
    }
   ],
   "source": [
    "# This should give an InderError\n",
    "print(list_example[list_length])"
   ]
  },
  {
   "cell_type": "code",
   "execution_count": 143,
   "metadata": {},
   "outputs": [
    {
     "name": "stdout",
     "output_type": "stream",
     "text": [
      "durians\n"
     ]
    }
   ],
   "source": [
    "# This should work just fine\n",
    "print(list_example[list_length -1])"
   ]
  },
  {
   "cell_type": "markdown",
   "metadata": {},
   "source": [
    "## List indexing and slicing\n",
    "\n",
    "We do not simply index just one element of a list at a time. We can actually index entire chunks of elements at once using the `:` inside of the `[]`. For example, with a four element list we can print elements zero through two:"
   ]
  },
  {
   "cell_type": "code",
   "execution_count": 12,
   "metadata": {},
   "outputs": [
    {
     "name": "stdout",
     "output_type": "stream",
     "text": [
      "['apples', 'bananas']\n",
      "['cucumbers', 'durians']\n"
     ]
    }
   ],
   "source": [
    "list_example = [\"apples\",\"bananas\",\"cucumbers\",\"durians\"]\n",
    "print( list_example[0:2] ) \n",
    "print( list_example[2:]) "
   ]
  },
  {
   "cell_type": "markdown",
   "metadata": {},
   "source": [
    "The first number is the list index for the element we start. The second number is the index that we get up to,__but not including__. This way, `list_example[0:2]` and `list_example[2:4]` will not return overlapping lists. \n",
    "\n",
    "Yet, we can also slice lists __from the end__ rather than the front of the list by using negative numbers. -1 is the final element, and this happy one `:-1` will give us everything up to the final element. "
   ]
  },
  {
   "cell_type": "code",
   "execution_count": 13,
   "metadata": {},
   "outputs": [
    {
     "name": "stdout",
     "output_type": "stream",
     "text": [
      "['apples', 'bananas', 'cucumbers']\n",
      "['bananas', 'cucumbers']\n",
      "['apples', 'bananas', 'cucumbers', 'durians']\n"
     ]
    }
   ],
   "source": [
    "list_example = [\"apples\",\"bananas\",\"cucumbers\",\"durians\"]\n",
    "print( list_example[:-1] ) \n",
    "\n",
    "print( list_example[1:-1] ) \n",
    "print( list_example[:]) "
   ]
  },
  {
   "cell_type": "markdown",
   "metadata": {},
   "source": [
    "## Adding data to a list (and adding two lists together)\n",
    "\n",
    "Lists are __mutable__ meaning that they can be changed by the program. Other data structures we will encounter later are __immutable__ which means that we can only create or destroy them but not change them. To change a list with methods, we can:\n",
    "\n",
    "- Add things: \n",
    "\n",
    "    - One at a time: __Append__ an item to the end of the list with `list.append(item)` \n",
    "    - Adding any collection: __extend__ a list with the items from any __iterable__ collection with `list1.extend(list2)`. \n",
    "- Remove things: \n",
    "\n",
    "    - Remove everything with __clear__: Want to keep the name but empty the list? `list1.clear()`\n",
    "    - Removing one item by index: __pop__ a value from the list. By default it is the final element, but you can pass an index to pop an element anywhere in the list. `list.pop()` or `list.pop(4)`. This is the same as __del__ before the list, like `__del list1[-1]` or `del list[4]` except that deleting doesn't return the things you deleted whereas pop does. \n",
    "    - Remove an item by its value: __remove__ the first instance of a value in the list with `list.remove(\"item\")`.\n",
    "\n",
    "- Sort things:\n",
    "\n",
    "    - __sort__ the list in place with `list.sort()`. \n",
    "    \n",
    "### Returning versus changing data\n",
    "Most of the time when we call a method we expect it to return something. A method called `upper()` returns the string in upper case, for example. It might be confusing (it sure has been to me at times), but sometimes methods just alter the state of an object rather than returning a new object. The list methods mentioned above all change the list in place. So you would not say: \n",
    "\n",
    "~~~ py\n",
    "list1 = list1.extend(list2) \n",
    "~~~\n",
    "\n",
    "Because while `extend()` changes `list1` it does not _return_ `list1`. You can test this below by printing what is returned from the list.   "
   ]
  },
  {
   "cell_type": "code",
   "execution_count": 170,
   "metadata": {},
   "outputs": [
    {
     "name": "stdout",
     "output_type": "stream",
     "text": [
      "None\n",
      "[1, 4, 9, 4, 5, 6]\n"
     ]
    }
   ],
   "source": [
    "# Attempt 1. Extending a list - it returns none. \n",
    "list1 = [1,4,9]\n",
    "list2 = [4,5,6]\n",
    "\n",
    "print(list1.extend(list2))\n",
    "\n",
    "# Attempt 2. Extending a list - print the old, freshly extended list. \n",
    "list1 = [1,4,9]\n",
    "list2 = [4,5,6]\n",
    "\n",
    "list1.extend(list2)\n",
    "print(list1)"
   ]
  },
  {
   "cell_type": "markdown",
   "metadata": {},
   "source": [
    "Here are the other list methods in action. Each time I start with a fresh `list1 = [1,2,3]`. "
   ]
  },
  {
   "cell_type": "code",
   "execution_count": 171,
   "metadata": {},
   "outputs": [
    {
     "name": "stdout",
     "output_type": "stream",
     "text": [
      "Original:\t [1, 4, 9]\n",
      "Appended:\t [1, 4, 9, 70]\n"
     ]
    }
   ],
   "source": [
    "# Append\n",
    "list1 = [1,4,9]\n",
    "new_val = 70\n",
    "print(\"Original:\\t\",list1)\n",
    "list1.append(new_val)\n",
    "print(\"Appended:\\t\",list1)"
   ]
  },
  {
   "cell_type": "code",
   "execution_count": 146,
   "metadata": {},
   "outputs": [
    {
     "name": "stdout",
     "output_type": "stream",
     "text": [
      "Original:\t [1, 4, 9]\n",
      "Extended:\t [1, 4, 9, 4, 5, 6]\n"
     ]
    }
   ],
   "source": [
    "# Extend\n",
    "list1 = [1,4,9]\n",
    "list2 = [4,5,6]\n",
    "print(\"Original:\\t\",list1)\n",
    "list1.extend(list2)\n",
    "print(\"Extended:\\t\",list1)"
   ]
  },
  {
   "cell_type": "code",
   "execution_count": 147,
   "metadata": {},
   "outputs": [
    {
     "name": "stdout",
     "output_type": "stream",
     "text": [
      "Original:\t [1, 4, 9]\n",
      "Cleared:\t []\n"
     ]
    }
   ],
   "source": [
    "# Clear\n",
    "list1 = [1,4,9]\n",
    "print(\"Original:\\t\",list1)\n",
    "list1.clear()\n",
    "print(\"Cleared:\\t\",list1)"
   ]
  },
  {
   "cell_type": "code",
   "execution_count": 149,
   "metadata": {},
   "outputs": [
    {
     "name": "stdout",
     "output_type": "stream",
     "text": [
      "Original:\t\t [1, 4, 9]\n",
      "Popped (index 1):\t [1, 9]\n",
      "Popped value:\t\t 4\n"
     ]
    }
   ],
   "source": [
    "# Pop. Notice that we are popping by position not value. \n",
    "# The value in 1 position is the number 4. \n",
    "list1 = [1,4,9]\n",
    "print(\"Original:\\t\\t\",list1)\n",
    "x = list1.pop(1)\n",
    "print(\"Popped (index 1):\\t\",list1)\n",
    "print(\"Popped value:\\t\\t\",x)"
   ]
  },
  {
   "cell_type": "code",
   "execution_count": 150,
   "metadata": {},
   "outputs": [
    {
     "name": "stdout",
     "output_type": "stream",
     "text": [
      "Original:\t\t [0, 54, 31, 5, 77, -3]\n",
      "Deleted last two:\t [0, 54, 31, 5]\n"
     ]
    }
   ],
   "source": [
    "# Del\n",
    "list1 = [0,54,31,5,77,-3]\n",
    "print(\"Original:\\t\\t\",list1)\n",
    "del list1[-2:]\n",
    "print(\"Deleted last two:\\t\",list1)"
   ]
  },
  {
   "cell_type": "code",
   "execution_count": 152,
   "metadata": {},
   "outputs": [
    {
     "name": "stdout",
     "output_type": "stream",
     "text": [
      "Original:\t [10, 20, 30]\n",
      "Removed '20':\t [10, 30]\n"
     ]
    }
   ],
   "source": [
    "# Remove\n",
    "list1 = [10,20,30]\n",
    "print(\"Original:\\t\",list1)\n",
    "list1.remove(20)\n",
    "print(\"Removed '20':\\t\",list1)"
   ]
  },
  {
   "cell_type": "code",
   "execution_count": 153,
   "metadata": {},
   "outputs": [
    {
     "name": "stdout",
     "output_type": "stream",
     "text": [
      "Original:\t [7, 3, 1, 2, 3, 4]\n",
      "Sorted:\t\t [1, 2, 3, 3, 4, 7]\n"
     ]
    }
   ],
   "source": [
    "# Sort\n",
    "list3 = [7,3,1,2,3,4]\n",
    "print(\"Original:\\t\",list3)\n",
    "list3.sort()\n",
    "print(\"Sorted:\\t\\t\",list3)"
   ]
  },
  {
   "cell_type": "markdown",
   "metadata": {},
   "source": [
    "## A list versus a tuple\n",
    "\n",
    "If you have some elements inside of square brakets `[]` this is usually a list or a list-like object. But sometimes you'll see elements inside of a slightly different structure with parentheses `()`. This is called a tuple. It tends to work the same as a list, whereby you can index by position, but unlike a list you cannot change the contents of a tuple, you can only create a tuple or destroy it. \n",
    "\n",
    "One neat thing about a tuple is that you can split it up when you are working with it. So watch below how I create a tuple with two elements, and then I assign them each to a variable. "
   ]
  },
  {
   "cell_type": "code",
   "execution_count": 14,
   "metadata": {},
   "outputs": [
    {
     "name": "stdout",
     "output_type": "stream",
     "text": [
      "(-1, 3)\n",
      "-1\n",
      "3\n"
     ]
    }
   ],
   "source": [
    "xy_tup = (-1,3)\n",
    "x,y = xy_tup\n",
    "\n",
    "print(xy_tup)\n",
    "print(x)\n",
    "print(y)"
   ]
  },
  {
   "cell_type": "markdown",
   "metadata": {},
   "source": [
    "This will be handy later when we get sent tuples and we really want one part of the tuple or another. "
   ]
  },
  {
   "cell_type": "markdown",
   "metadata": {},
   "source": [
    "# Ordered by inclusion: the `set`\n",
    "\n",
    "A `set` is a data structure that contains only unique values. So if you have a list like so: `ex1 = [\"Spain\",\"France\",\"Spain\",\"Italy\",\"Italy\"]` and you convert it to a set `set(ex1)`, it will only be the following: `{\"Spain\",\"France\",\"Italy\"}`. If you start with an empty set you can add more elements to it. But if you add an element that was already in the set nothing changes. "
   ]
  },
  {
   "cell_type": "code",
   "execution_count": 164,
   "metadata": {},
   "outputs": [
    {
     "name": "stdout",
     "output_type": "stream",
     "text": [
      "{'Cherry', 'Lemon'}\n",
      "{'Cherry', 'Lemon'}\n"
     ]
    }
   ],
   "source": [
    "s1 = set()\n",
    "s1.add(\"Cherry\")\n",
    "s1.add(\"Lemon\")\n",
    "print(s1)\n",
    "s1.add(\"Cherry\")\n",
    "print(s1)"
   ]
  },
  {
   "cell_type": "code",
   "execution_count": 158,
   "metadata": {},
   "outputs": [
    {
     "name": "stdout",
     "output_type": "stream",
     "text": [
      "As a list:\t [1, 2, 2, 3, 4, 5, 5, 5, 5, 5, 6]\n",
      "As a set:\t {1, 2, 3, 4, 5, 6}\n"
     ]
    }
   ],
   "source": [
    "s2 = [1,2,2,3,4,5,5,5,5,5,6]\n",
    "print(\"As a list:\\t\",s2)\n",
    "print(\"As a set:\\t\",set(s2))"
   ]
  },
  {
   "cell_type": "markdown",
   "metadata": {},
   "source": [
    "## Set inclusion and efficiency in code\n",
    "\n",
    "With a set, we can and usually do as about set inclusion. For that we just as if an element is `in` a set. So in our set of flavours above, we included Lemon but not Pineapple. See below how we would do that in Python: "
   ]
  },
  {
   "cell_type": "code",
   "execution_count": 169,
   "metadata": {},
   "outputs": [
    {
     "name": "stdout",
     "output_type": "stream",
     "text": [
      "True\n",
      "False\n"
     ]
    }
   ],
   "source": [
    "print(\"Lemon\" in s1)\n",
    "print(\"Pineapple\" in s1)"
   ]
  },
  {
   "cell_type": "markdown",
   "metadata": {},
   "source": [
    "Granted you can often ask if `<element> in <collection>` for lots of collections. But it turns out that there are a multitude of ways of organising data in the computer. A set is faster than a list because of the way it maps data to memory. A `frozenset` is faster still. It is like a set but cannot be  altered (i.e. it's frozen). "
   ]
  },
  {
   "cell_type": "code",
   "execution_count": 181,
   "metadata": {},
   "outputs": [
    {
     "name": "stdout",
     "output_type": "stream",
     "text": [
      "83.8 ns ± 27.1 ns per loop (mean ± std. dev. of 7 runs, 10000 loops each)\n",
      "205 ns ± 13.7 ns per loop (mean ± std. dev. of 7 runs, 10000 loops each)\n",
      "54 ns ± 0.518 ns per loop (mean ± std. dev. of 7 runs, 10000 loops each)\n",
      "53.5 ns ± 0.344 ns per loop (mean ± std. dev. of 7 runs, 10000 loops each)\n"
     ]
    }
   ],
   "source": [
    "speed_list = [1,2,3,4,5,6,7,8,9]\n",
    "speed_set = set(speed_list)\n",
    "\n",
    "%timeit -n 10000 1 in speed_list\n",
    "%timeit -n 10000 9 in speed_list\n",
    "\n",
    "%timeit -n 10000 1 in speed_set\n",
    "%timeit -n 10000 9 in speed_set"
   ]
  },
  {
   "cell_type": "markdown",
   "metadata": {},
   "source": [
    "We used a \"magic command\" here for the first time. This is `%timeit`. It's called \"magic\" because it does something in Jupyter but not necessarily in Python generally. You will see a few of these peppered throughout code. In this case we said \"do what's on this line 10000 times and report the average time\". Why 10,000? Because I used the `-n` flag for number of times and set it to `10000`. You can remove that but the program will probably do it a few million times and be a bit slower. \n",
    "\n",
    "The first two are using the list. It took ~100 nanoseconds on my machine to look for the first element. Then to get the last item in the list it took almost double the time (and that's with only nine elements!). That's because a list looks one by one through the data structure. With a set, it has a way of checking if there is a value at the memory address for `1` and it is either there or it is not. So that's why it took about 50 nanosecond for the first element or the last element (or any element regardless of set size).  \n",
    "\n",
    "This huge difference makes a difference to our programming. Sometimes we want to search through a list to find the element, but most of the time we just want the element in the fastest way possible. "
   ]
  },
  {
   "cell_type": "markdown",
   "metadata": {},
   "source": [
    "## Set logic: Union and Intersection \n",
    "\n",
    "Since sets contain at most one copy of any object, we can compare them and do set operations. These might be familiar to you through 'Venn diagrams'. \n",
    "\n",
    "Below are three key set operations that are often characterised using Venn diagrams: \n",
    "\n",
    "- **`<set1>.union(<set2>)`**: This looks for all elements from both sets.\n",
    "- **`<set1>.intersection(<set2>)`**: This looks for all elements in common. \n",
    "- **`<set1> - <set2>`**: This removes all elements from `<set1>` that were in `<set2>`. If there were additional elements in `<set2>` these are not considered. "
   ]
  },
  {
   "cell_type": "code",
   "execution_count": 165,
   "metadata": {},
   "outputs": [
    {
     "name": "stdout",
     "output_type": "stream",
     "text": [
      "setCount:\t{1, 2, 3, 4, 5}\n",
      "setOdd:  \t{1, 3, 5, 7, 9}\n",
      "\n",
      "Union (all of the elements from both):\t\t {1, 2, 3, 4, 5, 7, 9}\n",
      "Intersection (all elements in common):\t\t {1, 3, 5}\n",
      "Set subtraction (setCount minus setOdd):\t {2, 4}\n",
      "Set subtraction (setOdd minus setCount):\t {9, 7}\n"
     ]
    }
   ],
   "source": [
    "setCount = {1,2,3,4,5} # the first five numbers\n",
    "\n",
    "setOdd = {1,3,5,7,9} # the first five odd numbers \n",
    "\n",
    "print(f\"setCount:\\t{setCount}\")\n",
    "print(f\"setOdd:  \\t{setOdd}\")\n",
    "print()\n",
    "\n",
    "print(\"Union (all of the elements from both):\\t\\t\", setOdd.union(setCount))\n",
    "print(\"Intersection (all elements in common):\\t\\t\",\n",
    "      setOdd.intersection(setCount))\n",
    "\n",
    "print(\"Set subtraction (setCount minus setOdd):\\t\", setCount - setOdd)\n",
    "print(\"Set subtraction (setOdd minus setCount):\\t\", setOdd - setCount)"
   ]
  },
  {
   "cell_type": "markdown",
   "metadata": {},
   "source": [
    "If you have a list that you want to include in a set, you can do that with `<set1>.update(<list>)`. Then all the elements in the list will be considered. If they were not in the set before, they are now. "
   ]
  },
  {
   "cell_type": "code",
   "execution_count": 167,
   "metadata": {},
   "outputs": [
    {
     "name": "stdout",
     "output_type": "stream",
     "text": [
      "{'Sarsaparilla', 'Grape', 'Lemon', 'Orange', 'Cherry', 'Pineapple'}\n"
     ]
    }
   ],
   "source": [
    "set3 = {\"Cherry\",\"Lemon\",\"Orange\",\"Grape\"}\n",
    "new_flavor_list = [\"Orange\",\"Pineapple\",\"Sarsaparilla\"]\n",
    "set3.update(new_flavor_list)\n",
    "print(set3)"
   ]
  },
  {
   "cell_type": "markdown",
   "metadata": {},
   "source": [
    "Notice that the order in the new set is not necessarily the order in which we added these elements. The order in a set comes some underlying Python operations about memory management. But recall, we are not using a set because of its order. We are using it to determine whether something is 'included' or not. "
   ]
  },
  {
   "cell_type": "markdown",
   "metadata": {},
   "source": [
    "# Ordered by key: the dictionary or `dict`\n",
    "\n",
    "A set only has one copy of each element such as `{\"breakfast\",\"lunch\",\"dinner\"}`. What's advantageous about a set is that you can quickly check for whether an element is included. This is pretty handy if we want to store some large and complex objects. We should be able to create some sort of key and then ask the computer \"if I give you the key will you give me the large and complex object?\"\n",
    "\n",
    "In Python an example of this is a __dictionary__. Like a real dictionary, each word is only present once, but that word can refer to many different definitions (for example, the word `run` has hundreds of definitions).  \n",
    "\n",
    "In a Python dictionary we might have `{\"breakfast\":\"porridge\"}`. Then instead of calling `\"breakfast\"` one element of a set, we call it one of the __keys__ of the dictionary. Then in this example, `\"porridge\"` is a __value__. But a value could be any object. It could be a list: `\"breakfast\":[\"eggs\",\"toast\",\"porridge\"]` or even another dictionary! For example: \n",
    "\n",
    "~~~ python\n",
    "{\"breakfast\":\n",
    "     {\"eggs\":2,\n",
    "      \"bread\":\"toasted\",\n",
    "      \"porridge\":\"classic\"\n",
    "     }\n",
    "}\n",
    "~~~\n",
    "\n",
    "See below how I create and then query a dictionary."
   ]
  },
  {
   "cell_type": "code",
   "execution_count": 1,
   "metadata": {},
   "outputs": [
    {
     "name": "stdout",
     "output_type": "stream",
     "text": [
      "pizza\n"
     ]
    }
   ],
   "source": [
    "food_dict = {\"breakfast\":\"porridge\",\n",
    "           \"lunch\":\"pizza\",\n",
    "           \"dinner\":\"stir fry\"}\n",
    "\n",
    "print(food_dict[\"lunch\"])"
   ]
  },
  {
   "cell_type": "markdown",
   "metadata": {},
   "source": [
    "## Checking in on syntax with indexers and sets\n",
    "\n",
    "So at this point you might be curious about some syntax issues. If it's a dictionary then why would we say `new_dict['lunch']` and not `new_dict{'lunch'}`? The reason is that the square brackets are what's called an 'indexer'. We use an indexer to look up some value. In a list we look up that value by position, e.g., `list1[3]`. In a dictionary we look up that value _by key_. But we still use `[]` to look it up. You will see more complex indexers for getting rows and columns in tables if you continue on towards data science in Python and use the `pandas` package, but they still are denoted by brackets (`[]`). \n",
    "\n",
    "On the other hand, did you notice above that when we printed a set, it printed it with curly braces? And when we define a dictionary we also did it with curly braces? E.g., \n",
    "\n",
    "~~~ python\n",
    "print(setCount) \n",
    "> {1, 2, 3, 4, 5}\n",
    "~~~\n",
    "\n",
    "That's because both dictionaries and sets have unique elements. For the set it's the elements, for the dictionary it's the keys. You cannot have two keys in a dictionary with the same value. Watch what happens below when we create a dictionary with two keys that are the same: "
   ]
  },
  {
   "cell_type": "code",
   "execution_count": 2,
   "metadata": {},
   "outputs": [],
   "source": [
    "error_dict = {\"breakfast\": \"porridge\", \n",
    "              \"breakfast\": \"fruit\"}\n",
    "\n",
    "print(error_dict)\n",
    "print(error_dict[\"breakfast\"])"
   ]
  },
  {
   "cell_type": "markdown",
   "metadata": {},
   "source": [
    "As a small programming aside, you will notice by now that not all Python commands need to be on the same line. There are a few places where you can 'naturally' break a line and not confuse the Python interpreter. One is after a comma. I tend to want my code to by shorter than 80 characters wide, so I use the comma to create breaks and keep the code readable. "
   ]
  },
  {
   "cell_type": "markdown",
   "metadata": {},
   "source": [
    "## Accessing a dictionary's components. \n",
    "\n",
    "With a dictionary, you might not simply want to query the key and get the value. You might want all the values, all the keys, or all the items (i.e. key:value pairs). These are all available through methods. Here are the methods: \n",
    "\n",
    "- **keys**:  `<dict>.keys()`;\n",
    "- **values**:  `<dict>.values()`;\n",
    "- **items** (key-value pairs):  `<dict>.items()`.\n",
    "\n",
    "Below I will demonstrate each of these. Pay attention not just to what is printed, but the _type_ of what is printed. You'll see that it looks like a list, but behaves slightly differently. "
   ]
  },
  {
   "cell_type": "code",
   "execution_count": 18,
   "metadata": {},
   "outputs": [
    {
     "name": "stdout",
     "output_type": "stream",
     "text": [
      "{'fish': 'salmon', 'mushroom': 'enoki', 'fruit': 'apple'}\n",
      "<class 'dict_keys'>\n",
      "dict_keys(['fish', 'mushroom', 'fruit'])\n",
      "<class 'dict_values'>\n",
      "dict_values(['salmon', 'enoki', 'apple'])\n",
      "<class 'dict_items'>\n",
      "dict_items([('fish', 'salmon'), ('mushroom', 'enoki'), ('fruit', 'apple')])\n"
     ]
    }
   ],
   "source": [
    "ex1_dict = {\"fish\":\"salmon\",\n",
    "            \"mushroom\":\"enoki\"}\n",
    "\n",
    "ex1_dict[\"fruit\"] = \"apple\"\n",
    "\n",
    "print(ex1_dict)\n",
    "\n",
    "keys = ex1_dict.keys()\n",
    "vals = ex1_dict.values()\n",
    "items = ex1_dict.items() \n",
    "\n",
    "print(type(keys), keys, sep=\"\\n\")\n",
    "print(type(vals), vals, sep=\"\\n\")\n",
    "print(type(items), items, sep=\"\\n\")"
   ]
  },
  {
   "cell_type": "markdown",
   "metadata": {},
   "source": [
    "It turns out that these resulting objects look like a list, they are a sequence of  elements encased in `[]`, afterall. But they are then wrapped inside some label, like (`dict_keys()`). If you need to, you can turn them into a list by simply casting them as one. For example, these objects are not \"scriptable\", which translates to \"you cannot use an indexer on them\". Watch below how I try to query for `items[0]` and it throws an error. but when I cast it as a list, it works no problem. "
   ]
  },
  {
   "cell_type": "code",
   "execution_count": 23,
   "metadata": {},
   "outputs": [
    {
     "ename": "TypeError",
     "evalue": "'dict_items' object is not subscriptable",
     "output_type": "error",
     "traceback": [
      "\u001b[0;31m---------------------------------------------------------------------------\u001b[0m",
      "\u001b[0;31mTypeError\u001b[0m                                 Traceback (most recent call last)",
      "\u001b[0;32m<ipython-input-23-5dbb89d7bbf9>\u001b[0m in \u001b[0;36m<module>\u001b[0;34m\u001b[0m\n\u001b[0;32m----> 1\u001b[0;31m \u001b[0mitems\u001b[0m\u001b[0;34m[\u001b[0m\u001b[0;36m0\u001b[0m\u001b[0;34m]\u001b[0m\u001b[0;34m\u001b[0m\u001b[0;34m\u001b[0m\u001b[0m\n\u001b[0m",
      "\u001b[0;31mTypeError\u001b[0m: 'dict_items' object is not subscriptable"
     ]
    }
   ],
   "source": [
    "items[0]"
   ]
  },
  {
   "cell_type": "code",
   "execution_count": 24,
   "metadata": {},
   "outputs": [
    {
     "data": {
      "text/plain": [
       "('fish', 'salmon')"
      ]
     },
     "execution_count": 24,
     "metadata": {},
     "output_type": "execute_result"
    }
   ],
   "source": [
    "list(items)[0]"
   ]
  },
  {
   "cell_type": "markdown",
   "metadata": {},
   "source": [
    "Also notice that in the `items` collection, the keys and values are represented like `('fish','salmon')`. This is the infamous tuple I mentioned above. You can't change this value, but you can iterate through these. Iterating will be featured in the next chapter. "
   ]
  },
  {
   "cell_type": "markdown",
   "metadata": {},
   "source": [
    "## Dictionary gotchas \n",
    "\n",
    "The dictionary is an essential data structure in Python, but it is not without its quirks. Recall above that you can only have one key in a dictionary. So if you have `{\"fish\":\"salmon\"}` and want to add `\"cod\"`, you have to decide what to do with the salmon first. If you want to _replace_ the value, then this will work: "
   ]
  },
  {
   "cell_type": "code",
   "execution_count": 25,
   "metadata": {},
   "outputs": [
    {
     "data": {
      "text/plain": [
       "{'fish': 'cod'}"
      ]
     },
     "execution_count": 25,
     "metadata": {},
     "output_type": "execute_result"
    }
   ],
   "source": [
    "food_dict = {\"fish\":\"salmon\"}\n",
    "food_dict[\"fish\"] = \"cod\"\n",
    "food_dict"
   ]
  },
  {
   "cell_type": "markdown",
   "metadata": {},
   "source": [
    "However, if you want to add cod, then clear that strategy would not work. You also cannot do `{\"fish\":\"salmon\", \"fish\":\"cod\"}` as we established above with our breakfast dictionary. So what can you do? You can create a new list and make that the value. Here is one approach\":"
   ]
  },
  {
   "cell_type": "code",
   "execution_count": 28,
   "metadata": {},
   "outputs": [
    {
     "data": {
      "text/plain": [
       "{'fish': ['salmon', 'cod']}"
      ]
     },
     "execution_count": 28,
     "metadata": {},
     "output_type": "execute_result"
    }
   ],
   "source": [
    "food_dict = {\"fish\":[\"salmon\"]}\n",
    "food_dict[\"fish\"].append(\"cod\")\n",
    "food_dict"
   ]
  },
  {
   "cell_type": "markdown",
   "metadata": {},
   "source": [
    "But in case you did not have `\"salmon\"` in a list in the first place, you can always just insert it into a list: "
   ]
  },
  {
   "cell_type": "code",
   "execution_count": 30,
   "metadata": {},
   "outputs": [
    {
     "data": {
      "text/plain": [
       "{'fish': ['salmon', 'cod']}"
      ]
     },
     "execution_count": 30,
     "metadata": {},
     "output_type": "execute_result"
    }
   ],
   "source": [
    "food_dict = {\"fish\":\"salmon\"}\n",
    "food_dict[\"fish\"] = [food_dict[\"fish\"],\"cod\"]\n",
    "food_dict"
   ]
  },
  {
   "cell_type": "markdown",
   "metadata": {},
   "source": [
    "This last one might have tripped you up. But remember that `food_dict[\"fish\"]` at the beginning of line 2 _was_ `\"salmon\"`, so that way we inserted it as the first entry in a list, with `\"cod\"` as the second entry. Then we assigned this list (`[\"salmon\",\"cod\"]`) to the value of `\"fish\"` in the dictionary."
   ]
  },
  {
   "cell_type": "markdown",
   "metadata": {},
   "source": [
    "# Conclusion\n",
    "\n",
    "Herein we have seen a number of collections. We focused on three main ones, `list`, `set`, and `dict`. Yet, in the course of working through these, we also encountered tuples, `dict_items`, `dict_values`, and `dict_keys`. Yet, these other collections tend to work in pretty similar ways. Ultimately, if we have a collection we need a way to access the data from that collection. That's why I chose `list`, `set`, and `dict`. They exemplify three key ways of ordering (and thus querying) for data: by position, by inclusion, and by key. \n",
    "\n",
    "In the next chapter we will make use of collections through iteration. We will be able to do something for each element in a collection, or only under certain conditions. \n",
    "\n",
    "The exercises in Appendix \\ref{ap:short} enable some practice with dictionaries, and particularly some objects that are a messy of nested lists and dictionaries. This will start to resemble some of the messy data structures we see in the real world, like JSON (which really resembles combinations of lists and dictionaries).  "
   ]
  }
 ],
 "metadata": {
  "kernelspec": {
   "display_name": "Python 3",
   "language": "python",
   "name": "python3"
  },
  "language_info": {
   "codemirror_mode": {
    "name": "ipython",
    "version": 3
   },
   "file_extension": ".py",
   "mimetype": "text/x-python",
   "name": "python",
   "nbconvert_exporter": "python",
   "pygments_lexer": "ipython3",
   "version": "3.8.5"
  }
 },
 "nbformat": 4,
 "nbformat_minor": 4
}
