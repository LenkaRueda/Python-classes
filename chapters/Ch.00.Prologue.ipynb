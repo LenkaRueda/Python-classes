{
 "cells": [
  {
   "cell_type": "markdown",
   "metadata": {},
   "source": [
    "# Welcome! \n",
    "\n",
    "Thanks for checking out this book. \n",
    "\n",
    "The origins of this book started many, many years ago as a series of Python scripts for teaching social scientists how to code in Python. Over the years these grew into ever more extensive lecture notes. During the process of compiling lecture notes for my larger book [\"From Social Science to Data Science\"](https://github.com/berniehogan/fsstds), I thought it might be a good idea to also take my introductory notes and compile them as a book. \n",
    "\n",
    "It turned out to be a little more work than I expected! Part of the issue is that in reading my notes in a book form I became aware of certain assumptions I made or glossed over because I thought I could talk through such issues during a lecture. Yet, students appreciate resources. I adore using this book as a set of \"living notebooks\" in Jupyter. You can edit this book, run it, change it etc. But not much beats being able to have a printed or at least nicely formatted version of these notes to annotate, flip through and refer back to at a glance. So I hope you appreciate these notes. I further hope they encourage you to consider learning Python and developing your own way of working programmatically. "
   ]
  },
  {
   "cell_type": "markdown",
   "metadata": {},
   "source": [
    "# Python as a computer language\n",
    "\n",
    "Python is a computer language. Most computer langauges have some resemblance to human language but they are very fussy! Every punctuation must be correct, every space has to be in place, every word has to have the correct capitalisation. \n",
    "\n",
    "Language tends to have a notion of __nouns__ and __verbs__. Nouns are often thought of as objects, like a _pizza_. Verbs are actions like _throw_. You should not throw a pizza.  Python has a similar notion of __objects__  and __functions/methods__. Objects contain things. Functions are the ways that we make use of things in Python. They are like the verbs. For example: \n",
    "\n",
    "~~~ python \n",
    "print(\"Hello world!\") \n",
    "~~~\n",
    "\n",
    "In this case:\n",
    "- `print` is the function; \n",
    "- `()` contains what gets done; \n",
    "- `\"Hello world!\"` is data to which we do something, in this case, we __print__ the characters between the quotes. This is much safer than throwing pizza.\n",
    "\n",
    "Most of programming will involve moving around data between these functions in increasing layers of complexity, starting first with step by step instructions, and then subsequently with increasing amounts of abstraction. That is how the programming in this book will proceed. "
   ]
  },
  {
   "cell_type": "markdown",
   "metadata": {},
   "source": [
    "# An outline\n",
    "\n",
    "The first thing we will need to do is get you started with an environment for programming. Chapter \\ref{ch:intro} introduces some basics of Python and of an environment called Jupyter Lab. You might already be reading these chapters in Jupyter Lab! But if not, Chapter 1 has some tips on how to install and work with it. \n",
    "\n",
    "In Chapter \\ref{ch:datatypes}, we are going to start with a discussion of primitive data types. These are the basic building blocks of objects. They correspond to letters and numbers. Then in the second half of this chapter we will show __collections__. Collections include multiple data objects, either of the same type or a different type. That takes us to the end of this chapter just covering the logic of collections. \n",
    "\n",
    "In Chapter \\ref{ch:collections}, we ask, if we have a collection how can we repeat an action for each element in that collection? Thus, we will learn about __iteration__. Iterating leads quite naturally to the question: what if I want to do something some of the time (of for only some of the elements?) This means we are doing something under some _condition_. Thus, in Python we have an important notion of __conditionals__, the most common of these are `if` and `else` statements. As in:\n",
    "\n",
    "~~~ python\n",
    "if YEAR == 2020: \n",
    "    buy(\"mask\")   \n",
    "~~~\n",
    "\n",
    "The means to assign a bunch of variables, have iterations, and do it under some conditions form the basis of programming in virtually any language. But this can also get very messy. So different languages have ways of organising code, often to _minimise redundancy_ or _maximise reusability or robustness_.  One essential concept for organising code in Python is to make use of __functions__, both functions that are pre-built and those that you create yourself. In \\ref{ch:functions} we look at how to build a function, what sort of inputs are possible (and useful), and how to bundle functions together as objects. \n",
    "\n",
    "Functions can stand alone, or they can be dedicated functions for a specific class of __object__. These dedicated functions are called __methods__. We cover objects in more detail also in Chapter \\ref{ch:functions}. \n",
    " \n",
    "In Python, if it is a noun and it is not a primitive data type, then it is an object. So you can have a `tweet` object which contains data about a tweet, such as its author, time, URL, hashtags, etc. A simpler object is a `list`, which is just an ordered collection such as `[\"Abba\", \"Toto\", \"Gaga\"]`. The type of object in Python is called its `class`.  Classes are also covered in Chapter \\ref{ch:functions}. \n",
    "\n",
    "Chapter \\ref{ch:files} looks at how to read and write files, both for reading and writing data, but also for running Python programs. This does not really involve more complex programming concepts but starts you along a path towards using Python in Jupyter and beyond. \n",
    "\n",
    "The book concludes with some ideas and resources for further learning in Chapter \\ref{ch:next}. \n",
    "\n",
    "This book has a series of appendcies. These are exercises that I have put together based on the material for the different chapters. These tend to work better as Jupyter notebooks, but I also wanted to compile them. I feel that some of the most interesting work I've done is not in telling people _what_ to learn in Python, but inviting them to explore Python themselves. I hope the exercises encourage a level of playfulness with the code. The first, Chapter \\ref{ap:short}, presents a few shorter exercises tied to each chapter of the book. The second, Chapter \\ref{ap:answers}, are some example answers for the prior appendix. I'm sure you won't just copy and paste the answers, but this way removes some of the temptation. Then afterwards in Chapter \\ref{ap:longer} I propose a few longer projects that might be a fun challenge.  "
   ]
  },
  {
   "cell_type": "markdown",
   "metadata": {},
   "source": [
    "# Why this book? \n",
    "\n",
    "Python is a vast and well supported language. But that can be a problem as well as an advantage. It's easy to get overwhelmed by resources, Stack Exchange pages, endless YouTube videos with ever so slightly different content. And indeed, hundreds of introductory books and blog pages. \n",
    "\n",
    "This book is based on a decade of experience teaching graduate students Python, often graduate students from a humanities and social science background who never thought they could or would learn a programming language. It is certainly not the only way to learn, but it is the way that I have been able to teach. So in a way, this is a book mainly for me and my classes. But why limit knowledge? So for that reason, I have put this together as a .pdf and set of Jupyter notebooks so maybe it will be of use to you, too! "
   ]
  },
  {
   "cell_type": "markdown",
   "metadata": {},
   "source": [
    "# Dedication \n",
    "\n",
    "This one is dedicated to the teachers who take risks to keep their learning fresh. \n",
    "\n",
    "In my undergraduate degree 20 years ago Prof. Ron Byrne had been teaching a class on 'vocational languages' for years. The year I took it, he was using Python for the first time. It was relatively new language then. He figured it was going to replace the scripting language perl. Little did he realise that it was to become _the_ pre-eminent language in data science and machine learning. But it was a gift to me to be engaged with a language so early on. Dozens of my papers have been touched by Python in some way or another. \n",
    "\n",
    "At my current department, it's impossible to stand still. AI and machine learning are rapidly suffusing every domain of academic life in some way or another. I cannot keep teaching the same material or in the same way year on year. Who knows? In ten years I might not be teaching with Python at all! Even up until 2014 I was just teaching with script files and not Jupyter. It wasn't until around 2015 that I was using pandas! Sometimes these decisions seem a little late and sometimes they seem a little early. But they're always a risk. It's easier to teach what you know. But it's important to teach what students _need to know_ and that's always a risk. More times than I can count I've been asked a question that I felt like I _should_ have known the answer but didn't. Taking these risks is challenging and I've looked to some of my best teachers in the past to see how they navigated unknown and choppy waters. And in the end it's all the same - treat teaching as an opportunity to learn and not just an opportunity to teach. \n",
    "\n",
    "I wish I could list all my great teachers here, but that list is more important to me than you. So why not take a couple seconds and reflect yourself on those teachers in your life who took a risk to teach you something new? I think these people are all around us if we know where to look and act like we want to learn. So this book goes out to them. "
   ]
  }
 ],
 "metadata": {
  "kernelspec": {
   "display_name": "Python 3 (ipykernel)",
   "language": "python",
   "name": "python3"
  },
  "language_info": {
   "codemirror_mode": {
    "name": "ipython",
    "version": 3
   },
   "file_extension": ".py",
   "mimetype": "text/x-python",
   "name": "python",
   "nbconvert_exporter": "python",
   "pygments_lexer": "ipython3",
   "version": "3.9.7"
  }
 },
 "nbformat": 4,
 "nbformat_minor": 4
}
