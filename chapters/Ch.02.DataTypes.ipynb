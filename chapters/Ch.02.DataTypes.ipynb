{
 "cells": [
  {
   "cell_type": "markdown",
   "metadata": {},
   "source": [
    "# Primitive Data Types in Python\n",
    "\n",
    "[![Binder](https://mybinder.org/badge.svg)](https://mybinder.org/v2/gh/berniehogan/introducingpython/main?filepath=chapters%2FCh.02.DataTypes.ipynb)\n",
    "[![Colab](https://colab.research.google.com/assets/colab-badge.svg)](https://colab.research.google.com/github/berniehogan/introducingpython/blob/main/chapters/Ch.02.DataTypes.ipynb)\n",
    "\n",
    "There are two basic types of data in Python, __primitive__ data types and __object__ data types. Primitives are the basic building blocks of more complex data structures, much like how letters are the building blocks of words and digits the building blocks of numbers. For example, each letter is a primitive data type in Python called a __character__. An ordered list of characters is called a __string__ object. \n",
    "\n",
    "There are (as I understand it) five primitive types in Python: \n",
    "\n",
    "- `int` for integer or whole numbers.\n",
    "- `float` for floating point numbers. These are numbers with decimals in them.\n",
    "- `char` for characters. \n",
    "- `byte` for a kind of character interpreted by the computer, for example for storing image data.\n",
    "- `bool` for Boolean, namely `True` or `False`\n",
    "\n",
    "Usually you do not want to type out some primitive data every time. Instead you would use a label to represent them. This label is called a __variable__. You assign a value to a variable and then you can use that variable to 'represent' the value. See how this works below:"
   ]
  },
  {
   "cell_type": "code",
   "execution_count": null,
   "metadata": {},
   "outputs": [],
   "source": [
    "new_string = 'Hello world!'\n",
    "print(new_string)"
   ]
  },
  {
   "cell_type": "markdown",
   "metadata": {},
   "source": [
    "Variable names in Python start with an alphabetical character (`a-Z`) but can include numbers and underscores. There are some reserved words in Python. If you type them in Jupyter they usually show up in green. If you try to make a variable one of these (like saying `print = 4`), you might have some unexpected consequences. \n",
    "\n",
    "Don't worry, you won't 'break Python', but you might mess up that specific instance of Python. In which case, you can always start again by restarting the kernel from up in the menu. So I encourage you to toy around with the code, get a feel for some errors or ways to tinker. Then if you feel it's messed up, you can always restart the kernel. Of course, as you get further into production or academic level code you will not so easily want to restart the kernel, but by then you will likely have developed other approaches to tinkering with your code. "
   ]
  },
  {
   "cell_type": "markdown",
   "metadata": {},
   "source": [
    "# Characters \n",
    "\n",
    "The first primitive data type is the character. We don't really interact with characters directly but instead through their collection as a 'string' or `str` object. You saw above the string `Hello world!`. \n",
    "\n",
    "Characters become a string when encased in quotes. There are three types of quotes: the single tick, the double quote, and the triple tick.\n",
    "\n",
    "***Quote 1***. The single tick. \n",
    "\n",
    "~~~ Python\n",
    "print('One small tick for strings') \n",
    "~~~\n",
    "\n",
    "***Quote 2***. The double quote. This is not two ticks, but the 'double-quote' character, \". It looks like two vertical ticks, but closer together than two ticks (e.g., \" vs ''). Be careful with this character. Some programs like Microsoft Word like to replace the generic \" with stylized quote characters that are different at the beginning and end of a quote such as “these”. Python doesn't like stylized quotes and prefers the generic \".  \n",
    "\n",
    "~~~ python \n",
    "print(\"Python doesn't mind the tick here\")\n",
    "~~~\n",
    "\n",
    "The advantage of using double-quotes is that you can write phrases like \"don't bring me down\" without the program being confused when the string stops. If you then wrote `\"society\", man`, inside of a string, as in: \n",
    "\n",
    "~~~ python\n",
    "print(\"We all live in a \"society\", man\")\n",
    "~~~\n",
    "\n",
    "Then it will get assume the string ends when the next double quote appears, which is not what was the intention.  \n",
    "\n",
    "***Quote 3***. The triple tick. This is indeed three ticks in a row. Python will evaluate everything inside of the three ticks literally. So if you want to have a string break across a line you can just type that in between three ticks and it will not throw an error. \n",
    "\n",
    "~~~ python \n",
    "print('''I have no problems breaking \n",
    "across the lines!''')\n",
    "~~~"
   ]
  },
  {
   "cell_type": "code",
   "execution_count": null,
   "metadata": {},
   "outputs": [],
   "source": [
    "print('One small tick for strings') \n",
    "\n",
    "print() # this just prints an empty line.\n",
    "\n",
    "print(\"Python doesn't mind the tick here\")\n",
    "\n",
    "print()\n",
    "\n",
    "print('''I have no problems breaking \n",
    "across the lines!''')"
   ]
  },
  {
   "cell_type": "markdown",
   "metadata": {},
   "source": [
    "## When syntax issues arise in special characters \n",
    "\n",
    "So what happens if you want to use a quotation mark in your text? If you just insert a quote then Python will think it is the end of the string. It will then `raise` an error. Here is what an error, specifically a `SyntaxError`, looks like: "
   ]
  },
  {
   "cell_type": "code",
   "execution_count": null,
   "metadata": {},
   "outputs": [],
   "source": [
    "print(\"We all live in a \"society\", man\")"
   ]
  },
  {
   "cell_type": "markdown",
   "metadata": {},
   "source": [
    "Decoding errors is a bit of an art that will develop over time. Here, we can see indeed, the syntax is invalid. But Python is not great at explaining why. This is where experience comes in. Over time you will get better at deducing errors and cleaning them up. \n",
    "\n",
    "Some pointers to help with errors: \n",
    "\n",
    "- The bottom part is closest to your code. The error might have been triggered at many different layers of abstraction and so the output looks long and intimidating. But it really refers to the _line number_ of a line that was in the process of running the code at that point and an indication of where the code was when the error was raised;\n",
    "- Try to `print()` out at many points to get feedback (then remove these print statements from working code);\n",
    "- Break the problem down: make the smallest possible changes and see if it affects the code; \n",
    "- Examine online forums that received a similar error. But be mindful of what you throw into a search engine. Your variable names might be noise or might be research data. Be cautious of online sources, know that the most popular is not always the best (often it is biased by age of comment). Often Stack Overflow comments are popular because of _how_ they explain the content. Students sometimes rush to paste a code snippet without understanding it, but the snippet does not work because it is an example with slightly different details than in the students' code. Be patient and read the explanation rather than immediately copy-paste-hope. \n",
    "\n",
    "In the case of the error above, the program used a caret character (`^`) to indicate that there should not be an `s` directly after a closing quote. But that's not actually a closing quote is it? It's those darned inverted commas used by skeptical academics everywhere. So in order to preserve those inverted commas we need to \"escape\" them. \n",
    "\n",
    "We use the backslash character to escape, so we should see a string that looks more like: \n",
    "\n",
    "~~~ python \n",
    "print(\"We all live in a \\\"society\\\", man\")\n",
    "~~~\n",
    "\n",
    "Notice that the text colour is also a hint of when things are amiss. Observe the correctly formatted print statements below: "
   ]
  },
  {
   "cell_type": "code",
   "execution_count": null,
   "metadata": {},
   "outputs": [],
   "source": [
    "print(\"We all live in a \\\"society\\\", man, but at least we can escape the quotes.\")"
   ]
  },
  {
   "cell_type": "markdown",
   "metadata": {},
   "source": [
    "So there are a number of 'special characters' that are escaped:\n",
    "\n",
    "- `'`: To escape the single tick, as in `print('say it ain\\'t so?')`.\n",
    "- `\"`: To escape the double quote, as in `print(\"Okay then, \\\"It ain't so\\\"\")`.\n",
    "- `\\`: To escape the backslash in case you want to literally print it, as in `print('scanning C:\\\\temp folder')`. "
   ]
  },
  {
   "cell_type": "markdown",
   "metadata": {},
   "source": [
    "### Not all characters are visible. \n",
    "\n",
    "Sometimes we want to add some spaces to our code, maybe a tab or maybe a new line. Up until now we have just used `print()` to add an extra line. We can, however, do that right in the text. These sorts of characters are called 'whitespace' characters. There's two particularly relevant ones:  \n",
    "\n",
    "- `\\n` is the new line character;\n",
    "- `\\t` prints a tab. This is nice when you're printing tables as it counts spaces from the left-hand side and moves in multiples of 4 or 8 (depending on settings). Below I demonstrate the use of tab characters in a Haiku. \n",
    "\n",
    "See newline and tab in action below: "
   ]
  },
  {
   "cell_type": "code",
   "execution_count": null,
   "metadata": {},
   "outputs": [],
   "source": [
    "print(\"\\\"A \\\\n\\\" (A New Line)\")\n",
    "print(\"By Bernie Hogan\\n\")\n",
    "print(\"Autumn students learn:\") \n",
    "print(\"\\\"A tab that provides \\tstructure\")\n",
    "print(\"\\t\\t\\tmay not provide space\\\"\")"
   ]
  },
  {
   "cell_type": "markdown",
   "metadata": {},
   "source": [
    "We will continue to explore features of characters when we return to collections, since a string is a collection of characters. "
   ]
  },
  {
   "cell_type": "markdown",
   "metadata": {},
   "source": [
    "# `float` and `int` as the two basic types of numbers \n",
    "\n",
    "For numbers, there are two basic primitive data types:\n",
    "\n",
    "- __Integers__, which refer to whole numbers such as 1, 42 or 1812; \n",
    "- __Floating point numbers__, which refer to real numbers that can be approximated by digits using a decimal point, such as 0.5, 12.345 and 0.333333333."
   ]
  },
  {
   "cell_type": "code",
   "execution_count": null,
   "metadata": {},
   "outputs": [],
   "source": [
    "# An integer\n",
    "x = 7\n",
    "\n",
    "# A floating point number. Still a whole number, but the .0 makes it a float rather than an integer.\n",
    "y = 4.0\n",
    "\n",
    "print ( type(x) )\n",
    "print ( type(y) )\n",
    "\n",
    "z = x + y \n",
    "\n",
    "# See how z inherits the floating point number even though the value could be an integer? \n",
    "print (type(z), z)"
   ]
  },
  {
   "cell_type": "markdown",
   "metadata": {},
   "source": [
    "## Casting numbers \n",
    "\n",
    "Above I printed `type(<some_object>)`. The result of `type(x)` was `<class 'int'>` and the result of `type(y)` was `<class 'float'>`. But when we add these two together, we have to have comparable primitive data types, so the integer gets recast as a float. \n",
    "\n",
    "Data have a type, like `float` or `int` but we can transform data from one type to another by \"casting\" it. This does not always work as planned. But if it does not, then we have learned a valuable lesson and should seek a different way to convert the data if possible. \n",
    "\n",
    "If you convert an integer `7` to a float, that's easy. It's going to look the same, except it will have a decimal point and be ready to receive floating point precision, such as `7.0`. If you try to convert the string `\"7.0\"` to a float it should also work. But if you try to convert `\"seven\"` to a float the program will thrown an error. \n",
    "\n",
    "Below are some casting operations that work. Generally, it should be easy to find a way to turn a number into a string. It just ends up being that number, but as characters. Turning a string into a number on the other hand is really challenging given all the possible ways a number can be written in different languages, different spelling,etc. It would require some real understanding and is beyond the scope of simple Python operations. Below I will cast some ~~spells~~ data in different classes. "
   ]
  },
  {
   "cell_type": "code",
   "execution_count": null,
   "metadata": {},
   "outputs": [],
   "source": [
    "# Start and end with Int: \n",
    "var_int = 7\n",
    "print(var_int, type(var_int))\n",
    "\n",
    "var_float = float(var_int)\n",
    "print(var_float, type(var_float))\n",
    "\n",
    "var_str = str(var_float)\n",
    "print(var_str, type(var_str))"
   ]
  },
  {
   "cell_type": "markdown",
   "metadata": {},
   "source": [
    "So far, so good. We went from an int `7`&rarr;float `7.0`&rarr;str `\"7.0\"`. But now we have a problem if we want to go back to int. It will throw a `ValueError`. If you run it, then it will state `ValueError: invalid literal for int() with base 10: '7.0'`. The problem here is that you might think that `.0` means nothing. But it's actually something out of nothing. Python is not fussy that the value after the decimal point is zero or some long string of digits. The matter is that it is something after the decimal and that particular conversion does not like it. "
   ]
  },
  {
   "cell_type": "code",
   "execution_count": null,
   "metadata": {},
   "outputs": [],
   "source": [
    "var_int = int(var_str)\n",
    "print(var_int, type(var_int))"
   ]
  },
  {
   "cell_type": "markdown",
   "metadata": {},
   "source": [
    "It is often said that a language which requires you to specify the class of a variable ahead of time is a \"strongly cast\" language. For example, in Java you cannot write `x=5` unless you have previously defined `x` as an integer like `int x = 5`. \n",
    "\n",
    "Python is a \"weakly cast\" language meaning that it does not check the data type before assigning an object to that variable. So in one line you could code `x=0`, making `x` an integer number. On the next line, you can code `x=\"fabulous\"` and Python does not have a problem with that."
   ]
  },
  {
   "cell_type": "markdown",
   "metadata": {},
   "source": [
    "## Basic number operations.\n",
    "\n",
    "You will remember some basic number operations from arithmetic, such as addition and subtraction. Python implements these and a few others worth remembering. Let's have a look at several of these. You should pay attention to whether the result includes digits after the decimal point or not. We can do operations on both integers and floating points. When in doubt Python uses the type of number that gives more precision. So `1 + 2.5` will not round up or down, it will return `3.5`. Here is a list of common number operations:\n",
    "\n",
    "- Addition: `X + Y`\n",
    "- Subtraction: `X - Y`\n",
    "- Multiplication: `X * Y`\n",
    "- Exponent (i.e., raising X to the power of Y): `X ** Y` \n",
    "- Floating point division: `X / Y` \n",
    "- Integer division: `X // Y`\n",
    "- Modulo (i.e., the remainder from integer division): `X % Y`"
   ]
  },
  {
   "cell_type": "code",
   "execution_count": null,
   "metadata": {},
   "outputs": [],
   "source": [
    "x = 9\n",
    "y = 4\n",
    "print(\"x = \",x)\n",
    "print(\"y = \", y)\n",
    "print(\"x + y = \", x + y)\n",
    "print(\"x - y = \", x - y)\n",
    "print(\"x * y = \", x * y)\n",
    "print(\"x ** y = \", x ** y)\n",
    "print(\"x / y = \", x / y)\n",
    "print(\"x // y = \", x // y)\n",
    "print(\"x % y = \", x % y)"
   ]
  },
  {
   "cell_type": "markdown",
   "metadata": {},
   "source": [
    "## Floating point numbers mean floating point precision \n",
    "\n",
    "Floating point numbers are finite. Some numbers are not. For example, if you divide 1 by 3 the answer will be approximated by `0.33333` but really we would say that it goes on infinitely. So there is a limited level of precision using these primitive data types. Astrophysicists and others who need obscenely large levels of precision might find that floating point precision is not enough. For them there are specialist methods. You might never encounter the limits of floating point precision. Or rather, not until now. \n",
    "\n",
    "Observe this quirk below about what happens when you add some really large numbers together in Python. "
   ]
  },
  {
   "cell_type": "code",
   "execution_count": null,
   "metadata": {},
   "outputs": [],
   "source": [
    "# Example 1 \n",
    "x1 = 1/3\n",
    "y1 = 1/3\n",
    "z1 = 1/3\n",
    "\n",
    "print(\"x1 is \", x1)\n",
    "print(\"y1 is \", y1)\n",
    "print(\"z1 is \", z1)\n",
    "print() \n",
    "\n",
    "# Shouldn't this add up to 0.99999999999?\n",
    "print(\"Then why is x + y + z = \", x1 + y1 + z1)\n",
    "print(\"and not 0.9999999999999999?\")"
   ]
  },
  {
   "cell_type": "code",
   "execution_count": null,
   "metadata": {},
   "outputs": [],
   "source": [
    "# Example 2 \n",
    "x2  = 0.333333333333333  # <- Notice one digit short\n",
    "x2a = 0.3333333333333333\n",
    "y2  = 0.6666666666666666\n",
    "\n",
    "print(\"If x2 + y2 is 0.9999999999999996:\\n\", x2 + y2)\n",
    "\n",
    "print(\"Will x2a + y2 be 0.9999999999999999:\\n\", x2a + y2)"
   ]
  },
  {
   "cell_type": "code",
   "execution_count": null,
   "metadata": {},
   "outputs": [],
   "source": [
    "# Example 3 \n",
    "x3 = 16/9 \n",
    "y3 = 7/9\n",
    "print(\"Won't 16/9 minus 7/9 equal 9/9, which is the same as 1?\\n\",x-y)"
   ]
  },
  {
   "cell_type": "markdown",
   "metadata": {},
   "source": [
    "This is why we say floating point numbers are approximations of real numbers. $\\pi$ is a real number, but it is also infinitely non-repeating. The computer then cannot load the full number of $\\pi$ (as it does not have infinite memory), but it loads in an approximation. \n",
    "\n",
    "When we calculate things in Python, we are accepting a certain loss of precision. It does not do fractional math. In `Example 3`, the variable `x3` was first calculated as `1.7777777777777777` and stored as such. \n",
    "\n",
    "We rarely encounter that level of precision, but I think its nice to get a sense of our limits. "
   ]
  },
  {
   "cell_type": "markdown",
   "metadata": {},
   "source": [
    "# From characters to strings\n",
    "\n",
    "Strings, as we have now seen, are collections of characters. So we can now tell that:\n",
    "\n",
    "`\"This is a string\"`\n",
    "\n",
    "There is a huge amount of work in programming that is really just dealing with strings in some form or another. Strings become the basis of more complex file types, like `csv` for tables, or `xml` for data. Getting good at programming for computational social science will often mean being confident in transforming strings from one form to another and being able to select part of a string as having some sort of pattern or structure. \n",
    "\n",
    "Whether it is text collected via communications, surveys, comments, or reviews, it will be a string and it will probably need formatting. We might want to detect the presence of words or remove certain characters because they do not print well. "
   ]
  },
  {
   "cell_type": "markdown",
   "metadata": {},
   "source": [
    "## Some example string methods\n",
    "To use these you would have a string variable. I let `<var>` stand in for that here. \n",
    "\n",
    "- **`<var>.upper()`**: This returns a version of the string in all upper case. \n",
    "- **`<var>.lower()`**: This returns a version of the string string in all lower case.\n",
    "- **`<var>.find(<substring>)`**: This returns the numerical index of the first complete mention of the substring. This returns `-1` if the substring is not found. \n",
    "- **`<var>.isalpha()`**: This returns `True` if the string is all alphabetical characters and `False` otherwise.  \n",
    "- **`<var>.replace(<old_string>,<new_string>)`**: This takes additional two arguments, <old_string> which is what you want to find and <new_string> which is what you want to replace it with.   \n",
    "- **`<var>.strip()`**: This is a useful command to remove whitespace from the beginning and the end of a string. To remove only from the beginning use `<var>.lstrip()`. To remove only from the right, use `<var>.rstrip()`."
   ]
  },
  {
   "cell_type": "markdown",
   "metadata": {},
   "source": [
    "If you want to find out details about a method, you can check the help. There are several ways to do that in Jupyter. The first is to run `help(<var>.<method>)`. But don't include the `()` at the end of the method or it will first run the method and then query what was returned for help. "
   ]
  },
  {
   "cell_type": "code",
   "execution_count": null,
   "metadata": {},
   "outputs": [],
   "source": [
    "help(\"str\".find)"
   ]
  },
  {
   "cell_type": "markdown",
   "metadata": {},
   "source": [
    "The second way in Jupyter is to create a new tab (via the Launcher) and instead of selecting a notebook or Terminal, notice that in the lower right corner is a type of file called \"Show contextual help\". This will give realtime help on what command you are using. It's a second tab so drag it around Jupyter lab until you find a spot where it is visible but not obtrusive. Finally if you are in a code cell and you place your cursor inside a method and hit $shift$&rarr;$tab$ it should bring up the help for that variable as a tooltip.  "
   ]
  },
  {
   "cell_type": "markdown",
   "metadata": {},
   "source": [
    "## How to use a string method\n",
    "Methods and functions are the 'verbs' of Python. A method is basically a function except you invoke a method on an object. For now, it's okay to  use the terms interchangably, but the difference will be clear (and important) when we start building our own functions later. \n",
    "\n",
    "So if we have a string object, we can attach methods directly to the string:\n",
    "\n",
    "~~~ python\n",
    "\"This is an object\"\n",
    "~~~\n",
    "\n",
    "And we can attach the ```upper()``` method like so: \n",
    "\n",
    "~~~ python\n",
    "\"This is an object\".upper()\n",
    "~~~\n",
    "\n",
    "It will then print:\n",
    "~~~ python \n",
    "> THIS IS AN OBJECT\n",
    "~~~ \n",
    "\n",
    "But more commonly we first assign a string to a variable then then use our method on the variable.\n",
    "\n",
    "~~~ python\n",
    "new_string = \"This is a new string\"\n",
    "print ( new_string.upper() )\n",
    "> THIS IS A NEW STRING\n",
    "~~~\n",
    "\n",
    "Try it below:"
   ]
  },
  {
   "cell_type": "code",
   "execution_count": null,
   "metadata": {},
   "outputs": [],
   "source": [
    "example_string = \"The quick brown fox jumps over the lazy dog\"\n",
    "\n",
    "print(\"The original string:\",example_string)\n",
    "\n",
    "print(\"\\nTo upper case:\",example_string.upper())\n",
    "\n",
    "print(\"\\nTo lower case:\",example_string.lower())\n",
    "\n",
    "print(\"\\nIs the string just alphabetic characters?\",\n",
    "      example_string.isalpha())\n",
    "\n",
    "print(\"\\nReplacing 'o' with 'you':\", \n",
    "      example_string.replace(\"o\",\"you\"))"
   ]
  },
  {
   "cell_type": "markdown",
   "metadata": {},
   "source": [
    "## Strings are really a special kind of a `list`. \n",
    "\n",
    "We will learn more about lists in the next chapter. But strings are just a special kind of list - one with only characters in the same encoding. This means we can do things with strings like we can with a list, like sort the strings, or ask for elements $3$ through $10$. Above we acted on the string as a collection of characters, but we can convert it to a list in two ways. Observe the difference between them:"
   ]
  },
  {
   "cell_type": "code",
   "execution_count": null,
   "metadata": {},
   "outputs": [],
   "source": [
    "new_str = \"An example string to use\"\n",
    "\n",
    "print(\"1. The string itself:\\n\",new_str)\n",
    "print(\"2. The string split by spaces:\\n\",new_str.split())\n",
    "print(\"3. The string recast as a list:\\n\",list(new_str))"
   ]
  },
  {
   "cell_type": "markdown",
   "metadata": {},
   "source": [
    "The method `new_str.split()` uses a single empty space character, ` `, by default. So then the program split there. You can split by a word or combination of characters. Also, while the program splits every instance of that pattern by default, you can ask it to split only once or $n$ times. See below:   "
   ]
  },
  {
   "cell_type": "code",
   "execution_count": null,
   "metadata": {},
   "outputs": [],
   "source": [
    "new_str2 = \"Singing, dancing, grooving\"\n",
    "\n",
    "print(\"1. The string itself:\\n\", new_str2)\n",
    "print(\"2. Splitting at ever 'ing' value:\\n\", new_str2.split(\"ing\"))\n",
    "print(\"3. Replacing only the first instance:\\n\", new_str2.split(\"ing\",1))"
   ]
  },
  {
   "cell_type": "markdown",
   "metadata": {},
   "source": [
    "The splitting on `ing` produced 5 elements: `'S'`, `''`, `', danc'`, `', groov'`, and `''`. Two of these are empty.  The first one is empty because we used `Singing` and so it wanted to split in between the two `ing`s, even though there was nothing between them. Similarly at the end it wanted to split between the final `ing` (from `grooving`) and the end of the string, so it produced a second empty string. In the last example we only splint at the `S` so that we have two elements, `S`, and the text from the other side of the first `ing`: `'ing, dancing, grooving'`. \n",
    "\n",
    "`replace`, like `split` has the same feature of being able to select multiple or single instances. "
   ]
  },
  {
   "cell_type": "code",
   "execution_count": null,
   "metadata": {},
   "outputs": [],
   "source": [
    "new_str2 = \"Singing, dancing, grooving\"\n",
    "\n",
    "print(\"1. The string itself:\\n\", new_str2)\n",
    "print(\"2. Replacing all instances with ***:\\n\", new_str2.replace(\"ing\",\"***\"))\n",
    "print(\"3. Replacing only the first instance with ***:\\n\", new_str2.replace(\"ing\",\"***\",1))\n"
   ]
  },
  {
   "cell_type": "markdown",
   "metadata": {},
   "source": [
    "The second way we turned the string into a list was to take every character and make it its own element in a list. So that's why it displayed as `['A', 'n', ' ', 'e', ...`. In a sense, this is similar to a string in that it has just as many elements. But when you print the list versus the string, you can see that a list is geared towards thinking of the characters as elements in a collection, whereas the string is geared towards thinking of the characters as constituting a single \"string\" object. "
   ]
  },
  {
   "cell_type": "markdown",
   "metadata": {},
   "source": [
    "# Combining strings \n",
    "\n",
    "String formatting is complicated enough that it warrants its own section in this chapter. This will only be a cursory look at string formatting, but it will demonstrate the power of this approach. Usually we want to format strings because we have some variable that we want to include. So for example, if we want to print a greeting based on the day, we would make a generic greeting and then have a place to insert the day. \n",
    "\n",
    "Below we will insert some numbers into a string. You will notice that there are ways of formatting these numbers. They get a bit tricky and so here I'm just giving the basic syntax. "
   ]
  },
  {
   "cell_type": "markdown",
   "metadata": {},
   "source": [
    "## String concatenation\n",
    "\n",
    "There are many ways to format a string but they tend to refer to either string concatenation or string insertion. To concatenate is to bring together. So if you have `\"blue\"` and `\"berry\"` you can concatenate them with `\"blue\" + \"berry\"`. This means that the plus symbol is __overloaded__. It means different things in different contexts. Watch us use the plus symbol to concatenate a string as well as add some numbers below: "
   ]
  },
  {
   "cell_type": "code",
   "execution_count": null,
   "metadata": {},
   "outputs": [],
   "source": [
    "print(\"blue\" + \"berry\")\n",
    "print(7 + 9)\n",
    "print(\"7\" + \"9\")"
   ]
  },
  {
   "cell_type": "markdown",
   "metadata": {},
   "source": [
    "So if you have a variable, `name` and you want to insert it into a greeting, you can concatenate with `print(\"Hello \" + name)`. "
   ]
  },
  {
   "cell_type": "markdown",
   "metadata": {},
   "source": [
    "## Combining strings with f-insertions\n",
    "\n",
    "One of the challenges with concatenation is how to deal with variables of different kinds. Like imagine you calculate a test score and then want to print the score and a string. Since the `+` symbol is overloaded it will not like trying to determine if it should add some numbers or concatenate some strings. See the error below: "
   ]
  },
  {
   "cell_type": "code",
   "execution_count": null,
   "metadata": {},
   "outputs": [],
   "source": [
    "score = 17\n",
    "\n",
    "print(\"Your score was \" + score + \"out of 30, or \" + score/30 + \"percent\")"
   ]
  },
  {
   "cell_type": "markdown",
   "metadata": {},
   "source": [
    "So we can format the number as a string ahead of time, but that would be unnecessary. Instead we can format the string itself. There's the classic way of doing this using the `format()` method. Then there's the new way (which I adore) using f-insertions. Let's see them both since you will encounter both in the wild. \n",
    "\n",
    "In both cases they use `{}` inside of string quotes to create a marker for where the variable should go in the string. So for the example above it would be like: `\"Your score was {} out of 30, or {}.\"`. See below (you will see why I left out \"percent\" in a bit):"
   ]
  },
  {
   "cell_type": "code",
   "execution_count": null,
   "metadata": {},
   "outputs": [],
   "source": [
    "score = 17\n",
    "\n",
    "print(\"Your score was {} out of 30 or {}.\".format(score, score/30))\n",
    "\n",
    "print(f\"Your score was {score} out of 30 or {score/30}.\")"
   ]
  },
  {
   "cell_type": "markdown",
   "metadata": {},
   "source": [
    "Did you see how with the second approach, we inserted the variable right inside where it was supposed to be. It also made the colour of the variable stand out. In the second approach we had a different kind of string, called an f-insertion. This is like a regular string except we put `f` before the quote. It then knows that `{}` inside of a string means a variable is coming. "
   ]
  },
  {
   "cell_type": "markdown",
   "metadata": {},
   "source": [
    "### Tips for f-insertions\n",
    "\n",
    "__Tip 1__. What if you want to print `{` literally inside of an f-insertion? You escape it like with other escape codes, by using `\\`.\n",
    "\n",
    "__Tip 2__. If you are using a dictionary inside your f-insertion, like `f\"I like eating {food['sweet']}.\"` the dictionary should use different quotes to the statement. Here I used a single tick inside double quotes. "
   ]
  },
  {
   "cell_type": "markdown",
   "metadata": {},
   "source": [
    "## Formatting strings nicely\n",
    "\n",
    "You might have seen how the result of 17/30 was very long and a number between 0 and 1 rather than a percentage? We can fix these things. After the varaible name inside te `{}` we can put some formatting codes. I rarely remember them all. Instead, I tend to look to [pyformat.info](https://pyformat.info/) which has clear examples of these. But here are two important ones: "
   ]
  },
  {
   "cell_type": "code",
   "execution_count": null,
   "metadata": {},
   "outputs": [],
   "source": [
    "print(f\"Out of 30 with two significant digits: {score/30:0.2f}\")"
   ]
  },
  {
   "cell_type": "code",
   "execution_count": null,
   "metadata": {},
   "outputs": [],
   "source": [
    "print(f\"Out of 30 as percent with one significant digit: {score/30:0.1%}\")"
   ]
  },
  {
   "cell_type": "markdown",
   "metadata": {},
   "source": [
    "In the first instance we used the code `0.2f` to mean `0` padding at the front, two significant digits after the decimal, and the number is a `float`. The second instance `0.1%` changed it to one significant digit, but understood the number as a percent so it was `56.7` rather than `0.57`. When printing the results of analysis, Python will report as much precision as it has, but that might make the number look noisy or hard to grasp. Reporting a meaningful level of significant digits thus makes it easier for people to see the number for what it means. "
   ]
  },
  {
   "cell_type": "markdown",
   "metadata": {},
   "source": [
    "# Conclusion\n",
    "\n",
    "In this chapter we went from the most primitive data types (`int`, `float`, `char`) towards more meaningful data types. I showed how to convert data types, how to consider errors, and how to do some string manipulation. These get more interesting when we have many strings, numbers, or calculations. Then we can put these in a collection and start to ask questions of the collection itself. That is where we are headed next. "
   ]
  }
 ],
 "metadata": {
  "kernelspec": {
   "display_name": "Python 3 (ipykernel)",
   "language": "python",
   "name": "python3"
  },
  "language_info": {
   "codemirror_mode": {
    "name": "ipython",
    "version": 3
   },
   "file_extension": ".py",
   "mimetype": "text/x-python",
   "name": "python",
   "nbconvert_exporter": "python",
   "pygments_lexer": "ipython3",
   "version": "3.9.7"
  },
  "toc-autonumbering": true
 },
 "nbformat": 4,
 "nbformat_minor": 4
}
