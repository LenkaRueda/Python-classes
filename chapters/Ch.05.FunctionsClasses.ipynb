{
 "cells": [
  {
   "cell_type": "markdown",
   "metadata": {
    "toc-hr-collapsed": false
   },
   "source": [
    "# Functions and object-oriented programming\n",
    "\n",
    "Functions allow you to group together related operations in such a way that you can abstract away details in your program. Two main use cases of functions come to mind: \n",
    "1. Avoiding repetition and the bugs that can come from inconsistent code;\n",
    "2. Grouping together operations used elsewhere (like in list comprehensions and equality comparisons)."
   ]
  },
  {
   "cell_type": "markdown",
   "metadata": {},
   "source": [
    "## Defining a function \n",
    "\n",
    "We have already seen a few functions such as `print()` and `len()`. Building your own functions is a crucial part of coding. Without user-defined functions, you are left with code that is literally just one command after another. With functions you can abstract away the common parts, code them once inside the function, and then send the unique or novel parts to the function as __arguments__.\n",
    "\n",
    "Below is an example of some repetitive code followed by an example of a function that factors out the parts of the repetitive code. A function starts with `def` (for 'define'), followed by a __name__, and an __argument__ on the same line. Then \"inside\" the function (which is also denoted visually with indentation) is the code that is run each time the function is called. This code will use the values sent in (those are the arguments) and then typically `return` some object as output.  "
   ]
  },
  {
   "cell_type": "code",
   "execution_count": 1,
   "metadata": {},
   "outputs": [
    {
     "name": "stdout",
     "output_type": "stream",
     "text": [
      "[10, 14, 12]\n"
     ]
    }
   ],
   "source": [
    "# Try to identify the repetition\n",
    "list_result = []\n",
    "\n",
    "x = 5\n",
    "if x %2 == 1:     list_result.append(x * 2)\n",
    "else:             list_result.append(x)\n",
    "\n",
    "x = 7\n",
    "if x %2 == 1:     list_result.append(x * 2)\n",
    "else:             list_result.append(x)\n",
    "\n",
    "x = 12\n",
    "if x %2 == 1:     list_result.append(x * 2)\n",
    "else:             list_result.append(x)\n",
    "\n",
    "print(list_result)        "
   ]
  },
  {
   "cell_type": "code",
   "execution_count": 1,
   "metadata": {},
   "outputs": [
    {
     "name": "stdout",
     "output_type": "stream",
     "text": [
      "[10, 14, 12]\n"
     ]
    }
   ],
   "source": [
    "def doubleIfOdd(num):\n",
    "    if num % 2 == 1: \n",
    "        return num * 2\n",
    "    else: \n",
    "        return num\n",
    "\n",
    "print([doubleIfOdd(x) for x in [5,7,12]])"
   ]
  },
  {
   "cell_type": "markdown",
   "metadata": {},
   "source": [
    "To build that function we need to do the four things specified above: \n",
    "\n",
    "- Name\n",
    "- Inputs\n",
    "- Calculations\n",
    "- Outputs\n",
    "\n",
    "The name was `doubleIfOdd`, the inputs in this case referred to a single variable called `num`, the calculations referred to the `if-else` statement, and the output referred to what we returned, namely `num` or `num*2`. Below we can see a similar function, except it doubles numbers if they are even.  "
   ]
  },
  {
   "cell_type": "code",
   "execution_count": 3,
   "metadata": {},
   "outputs": [
    {
     "name": "stdout",
     "output_type": "stream",
     "text": [
      "[1, 8, 12, 7, 9, 28, 17]\n"
     ]
    }
   ],
   "source": [
    "def doubleTheNumberIfEven (input_number): \n",
    "    if input_number%2==0:\n",
    "        return input_number * 2\n",
    "    else:\n",
    "        return input_number\n",
    "    \n",
    "numbers = [1,4,6,7,9,14,17]\n",
    "\n",
    "new_numbers = [doubleTheNumberIfEven(i) for i in numbers]\n",
    "\n",
    "print(new_numbers)"
   ]
  },
  {
   "cell_type": "markdown",
   "metadata": {},
   "source": [
    "## Variables have a 'scope'\n",
    "A variable that is created inside of a function is not the same as the one created outside of that function even if they have the same name. This is because the variable inside the function is a __local__ variable. Variables created in Jupyter are typically treated as __global__ variables if they are created in a cell but not if they are created inside a function. To be global means that they can be used anywhere in the code. Local variables are created and destroyed within their local context. You can watch this behavior with a code snippet. "
   ]
  },
  {
   "cell_type": "code",
   "execution_count": 4,
   "metadata": {},
   "outputs": [
    {
     "name": "stdout",
     "output_type": "stream",
     "text": [
      "Value of x inside the function 8\n",
      "Result from the function: 8\n",
      "Value of x after the function: 4\n"
     ]
    }
   ],
   "source": [
    "# Local / Global scope example 1: Variable in the function stays in there.\n",
    "\n",
    "def multiplyTheValue(input_number):\n",
    "    x = input_number * 2\n",
    "    print(\"Value of x inside the function\",x)\n",
    "    return x \n",
    "\n",
    "x = 4 \n",
    "output_number = multiplyTheValue(x)\n",
    "print(\"Result from the function:\",output_number)\n",
    "print(\"Value of x after the function:\",x)\n"
   ]
  },
  {
   "cell_type": "markdown",
   "metadata": {},
   "source": [
    "But ```x``` wasn't the argument, ```input_number``` was. So what if we change ```input_number``` inside the function? "
   ]
  },
  {
   "cell_type": "code",
   "execution_count": 5,
   "metadata": {},
   "outputs": [
    {
     "name": "stdout",
     "output_type": "stream",
     "text": [
      "Inside the function 4\n"
     ]
    },
    {
     "ename": "NameError",
     "evalue": "name 'input_number' is not defined",
     "output_type": "error",
     "traceback": [
      "\u001b[0;31m---------------------------------------------------------------------------\u001b[0m",
      "\u001b[0;31mNameError\u001b[0m                                 Traceback (most recent call last)",
      "\u001b[0;32m<ipython-input-5-f113304a7fcc>\u001b[0m in \u001b[0;36m<module>\u001b[0;34m\u001b[0m\n\u001b[1;32m      7\u001b[0m \u001b[0mx\u001b[0m \u001b[0;34m=\u001b[0m \u001b[0;36m4\u001b[0m\u001b[0;34m\u001b[0m\u001b[0;34m\u001b[0m\u001b[0m\n\u001b[1;32m      8\u001b[0m \u001b[0moutput_number\u001b[0m \u001b[0;34m=\u001b[0m \u001b[0mmultiplyTheValue\u001b[0m\u001b[0;34m(\u001b[0m\u001b[0mx\u001b[0m\u001b[0;34m)\u001b[0m\u001b[0;34m\u001b[0m\u001b[0;34m\u001b[0m\u001b[0m\n\u001b[0;32m----> 9\u001b[0;31m \u001b[0mprint\u001b[0m\u001b[0;34m(\u001b[0m\u001b[0;34m\"After the function\"\u001b[0m\u001b[0;34m,\u001b[0m\u001b[0minput_number\u001b[0m\u001b[0;34m)\u001b[0m\u001b[0;34m\u001b[0m\u001b[0;34m\u001b[0m\u001b[0m\n\u001b[0m\u001b[1;32m     10\u001b[0m \u001b[0mprint\u001b[0m\u001b[0;34m(\u001b[0m\u001b[0;34m\"Value of X after the function:\"\u001b[0m\u001b[0;34m,\u001b[0m\u001b[0mx\u001b[0m\u001b[0;34m)\u001b[0m\u001b[0;34m\u001b[0m\u001b[0;34m\u001b[0m\u001b[0m\n",
      "\u001b[0;31mNameError\u001b[0m: name 'input_number' is not defined"
     ]
    }
   ],
   "source": [
    "# Local / Global scope example 2: Argument sent to function doesn't escape the function.\n",
    "\n",
    "def multiplyTheValue(input_number):\n",
    "    print(\"Inside the function\",input_number)\n",
    "    return input_number \n",
    "\n",
    "x = 4 \n",
    "output_number = multiplyTheValue(x)\n",
    "print(\"After the function\",input_number)\n",
    "print(\"Value of X after the function:\",x)"
   ]
  },
  {
   "cell_type": "markdown",
   "metadata": {},
   "source": [
    "We sent `x` to the function, at which point it became the value for the `input_number` parameter. So we could use `input_number` inside the function, but then when we try to call it outside the function it throws an error. To make it available outside the function is not an advised code pattern, but it is possible by using the `global` flag."
   ]
  },
  {
   "cell_type": "code",
   "execution_count": 6,
   "metadata": {},
   "outputs": [
    {
     "name": "stdout",
     "output_type": "stream",
     "text": [
      "Value of x before the function 4 4336056768\n",
      "Value of x inside the function 8 4336056896\n",
      "Value of x after the function 8 4336056896\n",
      "After the function 8\n"
     ]
    }
   ],
   "source": [
    "# Local / Global scope example 3: Casting a variable as global makes it available outside the function.\n",
    "\n",
    "def multiplyTheValue(input_number):\n",
    "    global x\n",
    "    x = input_number * 2\n",
    "    print(\"Value of x inside the function\",x,id(x))\n",
    "    return x \n",
    "\n",
    "x = 4\n",
    "print(\"Value of x before the function\",x,id(x))\n",
    "output_number = multiplyTheValue(x)\n",
    "print(\"Value of x after the function\",x,id(x))\n",
    "print(\"After the function\",output_number)"
   ]
  },
  {
   "cell_type": "markdown",
   "metadata": {},
   "source": [
    "In this third example, we can see that when we declare x is a global variable inside the function, that value then becomes the value outside of the function. We double ```x``` inside the function and then later when we print x it is no longer 4, it retains the value it had inside the function. "
   ]
  },
  {
   "cell_type": "markdown",
   "metadata": {},
   "source": [
    "## There are all kinds of ways of passing data to a function. \n",
    "\n",
    "A function usually has some _parameters_. Parameters are like another word for options or settings. When you define a function, it is parameters that you write between the parentheses. But when you are coding you are more interested in the values of these parameters. These are _arguments_. So in the function: "
   ]
  },
  {
   "cell_type": "code",
   "execution_count": 7,
   "metadata": {},
   "outputs": [
    {
     "name": "stdout",
     "output_type": "stream",
     "text": [
      "Tiny examples! Big ideas!\n"
     ]
    }
   ],
   "source": [
    "def tinyexample(word):\n",
    "    print(\"Tiny examples!\", word)\n",
    "\n",
    "tinyexample(\"Big ideas!\")"
   ]
  },
  {
   "cell_type": "markdown",
   "metadata": {},
   "source": [
    "`word` is the parameter, `\"Big Ideas\"` is the argument. That said, most people use these terms interchangably. \n",
    "\n",
    "There are a number of different kinds of parameters. Some of these allow a function to take in a flexible number of arguments, others define the type of argument that the parameter will permit. Parameters can take default values. If the parameter has a default value, then one does not need to send an argument when running the function. \n",
    "\n",
    "Note that since a function can have a combination of different parameter types, the ones without defaults come first. Let's see how some different functions take multiple arguments below: "
   ]
  },
  {
   "cell_type": "code",
   "execution_count": 8,
   "metadata": {},
   "outputs": [
    {
     "name": "stdout",
     "output_type": "stream",
     "text": [
      "example 1 argument\n"
     ]
    }
   ],
   "source": [
    "# Example 1. Just a single positional argument\n",
    "def example1(just_name):\n",
    "    print(just_name)\n",
    "\n",
    "example1(\"example 1 argument\")"
   ]
  },
  {
   "cell_type": "code",
   "execution_count": 2,
   "metadata": {},
   "outputs": [],
   "source": [
    "# Example 2. A positional argument with a default value\n",
    "def example2(arg_name, setting1 = True, setting2 = True ):\n",
    "    if setting1:\n",
    "        print(arg_name)\n",
    "        return\n",
    "    elif setting2:\n",
    "        print(arg_name.upper())\n",
    "        return\n",
    "    else:\n",
    "        print(f\"{arg_name} You have disabled the settings\")"
   ]
  },
  {
   "cell_type": "code",
   "execution_count": 3,
   "metadata": {},
   "outputs": [
    {
     "name": "stdout",
     "output_type": "stream",
     "text": [
      "Example 2. Take 1.\n",
      "Example 2. Take 2a.\n",
      "Example 2. Take 2b.\n",
      "Example 2. Take 3. You have disabled the settings\n"
     ]
    }
   ],
   "source": [
    "example2(\"Example 2. Take 1.\")\n",
    "\n",
    "example2(\"Example 2. Take 2a.\", setting2 = False)\n",
    "\n",
    "example2(\"Example 2. Take 2b.\", True, False)\n",
    "\n",
    "example2(\"Example 2. Take 3.\", False, False)"
   ]
  },
  {
   "cell_type": "code",
   "execution_count": 11,
   "metadata": {},
   "outputs": [
    {
     "name": "stdout",
     "output_type": "stream",
     "text": [
      "Maybe\n",
      "more data\n"
     ]
    }
   ],
   "source": [
    "# Example 3. Postional arguments passed but not defined ahead of time\n",
    "def example3(just_name, *args):\n",
    "    if len(args) > 0:\n",
    "        for i in args: print(i)\n",
    "\n",
    "example3(\"some data\",\"Maybe\",\"more data\")\n",
    "\n",
    "# Below, why does it not print 'some data'?"
   ]
  },
  {
   "cell_type": "code",
   "execution_count": 12,
   "metadata": {},
   "outputs": [
    {
     "name": "stdout",
     "output_type": "stream",
     "text": [
      "var name: var1 \tvalue: some data from v1\n",
      "var name: var3 \tvalue: Maybe it's v3?\n",
      "var name: var2 \tvalue: v2's valuedata\n"
     ]
    }
   ],
   "source": [
    "# Example 4. Keyword arguments passed but not defined ahead of time\n",
    "def example4(just_name,**kwargs):\n",
    "    if len(kwargs) > 0:\n",
    "        for i,j in kwargs.items(): \n",
    "            print(\"var name:\",i,\"\\tvalue:\",j)\n",
    "\n",
    "example4(\"example\",\n",
    "         var1=\"some data from v1\",\n",
    "         var3=\"Maybe it's v3?\",\n",
    "         var2=\"v2's valuedata\")"
   ]
  },
  {
   "cell_type": "code",
   "execution_count": 13,
   "metadata": {},
   "outputs": [
    {
     "name": "stdout",
     "output_type": "stream",
     "text": [
      "4\n",
      "DoubleDouble\n",
      "['2', '2']\n",
      "None\n"
     ]
    }
   ],
   "source": [
    "# Example 5. Showing the possibilities (and dangers) of fragile code and weakly cast variables.\n",
    "\n",
    "def MakeDouble(value):\n",
    "    try: \n",
    "        output = value*2\n",
    "    except TypeError:\n",
    "        output = None\n",
    "        \n",
    "    return output\n",
    "\n",
    "print( MakeDouble(2)  )\n",
    "print( MakeDouble(\"Double\")  )\n",
    "print( MakeDouble([\"2\"]))\n",
    "print( MakeDouble({1:4}))"
   ]
  },
  {
   "cell_type": "markdown",
   "metadata": {},
   "source": [
    "## A function always returns, but it might be nothing at all.\n",
    "\n",
    "Your function always stops at the return statement. You can have multiple return statements for different conditions (like saying if...return one thing and else...return another). After the return statement, the remaining code will not be evaluated by the program. But if your function does not have a return statement, Python will still return `None` (which if you remember from above evaluates to `False`). Just try it for yourself. "
   ]
  },
  {
   "cell_type": "code",
   "execution_count": 14,
   "metadata": {},
   "outputs": [
    {
     "name": "stdout",
     "output_type": "stream",
     "text": [
      "None\n",
      "Oh right, None evaluates to false.\n"
     ]
    }
   ],
   "source": [
    "def noReturn():\n",
    "    pass\n",
    "\n",
    "print(noReturn())\n",
    "\n",
    "if noReturn(): \n",
    "    print(\"Did it work?\")\n",
    "else:\n",
    "    print(\"Oh right, None evaluates to false.\")"
   ]
  },
  {
   "cell_type": "markdown",
   "metadata": {},
   "source": [
    "# Classes and Objects \n",
    "\n",
    "Classes are a means of grouping together relevant variables and methods into a single class. Then a class becomes the template for some kind of object. Stated differently, every object is an object of some type of _class_. Object-oriented programming is one of many paradigms of programming. And not all programs need to be object oriented. Regardless, Python is predominantly object-oriented (as is Java, C++, swift, Objective-C, and Ruby, for example). \n",
    "\n",
    "To say that a program is object-oriented means that it uses `objects` as a part of its processing. An `object` is the generic term for any data structure that can be created by a program. A nice feature of an object is that it can contain other objects unless it is a 'primitive'. So a character is a primitive but a string is a collection of characters. But we can also have a collection of strings (like a list of strings or a dictionary of key:value pairs). Objects have specialised methods. For example, the string object has `.upper()` or `.lower()` methods. \n",
    "\n",
    "We would say that objects of the same type are _instances_ of the same _class_. So, above, when I said \"the string object has a...\", that was short hand. More specifically, I could have said  \"any instantiated objects of the string class can use the...\" \n",
    "\n",
    "You can create a class from scratch or extend and existing class. "
   ]
  },
  {
   "cell_type": "markdown",
   "metadata": {},
   "source": [
    "## Creating classes using `__init__`\n",
    "\n",
    "To create an object, you need to first define the class name and the provide an internal method called `__init__`. This method will automatically run every time you create (or \"initialise\") a new object of that type. So if you had a class called `Pizza` which you know creates pizza objects, then you would probably initialise it with a few relevant variables such as `toppings = []`, `sauce='tomato'` , and `base = 'classic'`. You can then modify the pizza object. This would be a basic Pizza class:"
   ]
  },
  {
   "cell_type": "code",
   "execution_count": 15,
   "metadata": {},
   "outputs": [],
   "source": [
    "class Pizza: \n",
    "    def __init__ (self):\n",
    "        self.toppings = []\n",
    "        self.base = 'classic'\n",
    "        self.sauce = 'tomato'\n",
    "        \n",
    "p = Pizza()\n",
    "z = Pizza()"
   ]
  },
  {
   "cell_type": "markdown",
   "metadata": {},
   "source": [
    "Now we can consider the pizza object as a combination of multiple other objects that all work together. A shopping cart, for example, might be a class that includes a list of items, a discount code, and an identifier for the customer that owns the shopping cart. Admittedly, for something like pizza or a shopping cart we can also get away with just using a dictionary. That is, we could have simply written: \n",
    "\n",
    "~~~ python\n",
    "pizza = {toppings:[], base:\"classic\",sauce:\"tomato\"} \n",
    "\n",
    "pizza[toppings].append(\"red peppers\")\n",
    "pizza[\"base\"] = \"thin and crispy\"\n",
    "~~~\n",
    "\n",
    "So what is the advantage of using a class rather than this structure? It depends on the purpose. For simple data transfer, actually it is nice to just keep it as dictionaries and lists. Later when we look at JSON files from the web we will see how they are essentially just collections of lists and dictionaries. But when programming, it is useful to be able to have a _structure_ to the various objects that are related to each other. This structure can give some sense to the objects as well as ensure that they all work in sync. For example, what if we want to manage two pizza orders? Will we create another variable called `pizza2`? \n",
    "\n",
    "Below I will show two approaches to printing off a receipt. Compare how I would do it for a dictionary like above, and then for a class: "
   ]
  },
  {
   "cell_type": "code",
   "execution_count": 16,
   "metadata": {},
   "outputs": [
    {
     "name": "stdout",
     "output_type": "stream",
     "text": [
      "Welcome Tom\n",
      "\n",
      "Your items:\n",
      "Turntable Microphone Keyboard\n",
      "Discount code:HAPPY2020\n"
     ]
    }
   ],
   "source": [
    "cart = {\"items\":[], \"code\":None, \"customer\":None} \n",
    "\n",
    "cart[\"items\"] = [\"Turntable\",\"Microphone\",\"Keyboard\"]\n",
    "cart[\"code\"] = \"HAPPY2020\"\n",
    "cart[\"customer\"] = \"Tom\"\n",
    "\n",
    "print(f'Welcome {cart[\"customer\"]}\\n\\nYour items:\\n{\" \".join(cart[\"items\"])}\\nDiscount code:{cart[\"code\"]}')"
   ]
  },
  {
   "cell_type": "code",
   "execution_count": 17,
   "metadata": {},
   "outputs": [],
   "source": [
    "class Cart: \n",
    "    def __init__(self):\n",
    "        self.items = []\n",
    "        self.code = None\n",
    "        self.customer = None\n",
    "        \n",
    "    def receipt(self):\n",
    "        message = f\"Welcome {self.customer}\\n\\nYour items:\\n\"\n",
    "        message += \"\\n\".join(self.items) + \"\\n\"\n",
    "        \n",
    "        if self.code:\n",
    "            message += f\"Discount code:{self.code} applied\"\n",
    "        return message\n",
    "            "
   ]
  },
  {
   "cell_type": "markdown",
   "metadata": {},
   "source": [
    "So above is just the class file. From here we can see a couple differences. The first is that the `receipt` function is inside the `Cart` class. The second is that when we are referring to objects that belong to the `Cart` class inside of the class definition we refer to them as `self.<object>`. So `__init__` is never really called directly, you never say `x = Cart.__init__()`, instead you initialise by saying `x = Cart()`, which then will automatically run the `__init__` method. In this case, it will create three internal variables, `self.items`, `self.code`, and `self.customer`, and give them some values. Although this seems a little overkill compared to the nested dictionary, it creates more of a structure to work with. Then we can create multiple cart instances, as can be seen below. "
   ]
  },
  {
   "cell_type": "code",
   "execution_count": 18,
   "metadata": {},
   "outputs": [
    {
     "name": "stdout",
     "output_type": "stream",
     "text": [
      "Welcome Chuck\n",
      "\n",
      "Your items:\n",
      "Turntable\n",
      "Microphone\n",
      "Mixer\n",
      "Discount code:HAPPYSPINNING applied\n"
     ]
    }
   ],
   "source": [
    "x = Cart()\n",
    "\n",
    "x.items = [\"Turntable\",\"Microphone\",\"Mixer\"]\n",
    "x.code = \"HAPPYSPINNING\"\n",
    "x.customer = \"Chuck\"\n",
    "\n",
    "print(x.receipt())"
   ]
  },
  {
   "cell_type": "markdown",
   "metadata": {},
   "source": [
    "Compare how the receipt was printed this time with the code above. We abstracted away the details of printing to the `receipt()` method of the `Cart` class, which we defined elsewhere. We were still able to access the objects in the `Cart` class, but instead of `self.items`, we first instantiated an object called `x`, and then used `x.items`. Some classes can be fussy and expect you to use a dedicated method to get these objects, like `x.get_items()`. Other times classes allow you to access the objects directly. It's a bit of trial and error as well as checking in on the docs for a particular package. \n",
    "\n",
    "Below I will create a second object just to demonstrate how we can have separate `Cart` objects and use them together in a `print()` statement."
   ]
  },
  {
   "cell_type": "code",
   "execution_count": 19,
   "metadata": {},
   "outputs": [
    {
     "name": "stdout",
     "output_type": "stream",
     "text": [
      "Welcome Caterina\n",
      "\n",
      "Your items:\n",
      "808 Drum Machine\n",
      "Keyboard\n",
      "Laptop\n",
      "\n",
      "###########\n",
      "Welcome Chuck\n",
      "\n",
      "Your items:\n",
      "Turntable\n",
      "Microphone\n",
      "Mixer\n",
      "Discount code:HAPPYSPINNING applied\n"
     ]
    }
   ],
   "source": [
    "y = Cart()\n",
    "y.items = [\"808 Drum Machine\", \"Keyboard\", \"Laptop\"]\n",
    "y.customer = \"Caterina\"\n",
    "\n",
    "print(y.receipt(),x.receipt(),sep=\"\\n###########\\n\")"
   ]
  },
  {
   "cell_type": "markdown",
   "metadata": {},
   "source": [
    "## Extending classes and inheriting values\n",
    "\n",
    "There are instances in both data access and machine learning where the task will have a class that's almost fit for purpose but typically there will be a few key functions missing. You could then 'extend' this class with your own version of these methods. \n",
    "\n",
    "One example concerns Twitter data. So there is a way to get the Python to listen for new tweets based on some criteria, such as when someone tweets `#BLM`. In the `twitter` library this is done using the `StreamListener` class. When you instantiate a stream listener, it will handle many of the details automatically, like connecting to Twitter and receiving data according to your search parameters. However, it simply listens and does not do anything with the data it receives. For you to do something with the data, you need to _extend_ the `StreamListener` class. This extension, perhaps called `CustomStreamListener` will _inherit_ all the methods and objects in the `StreamListener` class, but you can add your own additional methods. One method that it will look for is called `on_data`. This method will be called anytime there is a tweet that appears according to your search terms, and then you get to define what to do with that data. For example, in the `on_data()` method, you could fill it with instructions such as \"check for hate speech\" or \"store in a database\" or \"reply automatically with a messsage\".  \n",
    "\n",
    "Here is a simple example building on the `Cart` above. Notice that in the `Trolley` class (which is what you would often call a cart in the UK), we do not say `self.items` or `self.customer` since they were _inherited_ from the `Cart` class. But now we will add a user `post_code`, since in the UK addresses have post codes. "
   ]
  },
  {
   "cell_type": "code",
   "execution_count": 20,
   "metadata": {},
   "outputs": [],
   "source": [
    "class Trolley(Cart): \n",
    "    def __init__(self): \n",
    "        Cart.__init__(self) # observe what happens if you remove this!\n",
    "        self.post_code = \"OX1 3JS\"\n",
    "        \n",
    "    def delivery(self):\n",
    "        message = \"Your basket currently includes:\\n\"\n",
    "        message += \"\\n\".join(self.items) + \"\\n\"\n",
    "        message += \"It will be delivered to \" + self.post_code\n",
    "\n",
    "        return message"
   ]
  },
  {
   "cell_type": "code",
   "execution_count": 21,
   "metadata": {},
   "outputs": [
    {
     "name": "stdout",
     "output_type": "stream",
     "text": [
      "Welcome None\n",
      "\n",
      "Your items:\n",
      "Cables\n",
      "Cassette Player\n",
      "\n",
      "Your basket currently includes:\n",
      "Cables\n",
      "Cassette Player\n",
      "It will be delivered to OX1 3JS\n"
     ]
    }
   ],
   "source": [
    "z = Trolley()\n",
    "z.items = [\"Cables\",\"Cassette Player\"]\n",
    "\n",
    "z.placename = \"OII\"\n",
    "\n",
    "print(z.receipt())\n",
    "\n",
    "print(z.delivery()) "
   ]
  },
  {
   "cell_type": "markdown",
   "metadata": {},
   "source": [
    "## Reasons to use a class\n",
    "\n",
    "Part of the reason for showing a class is that it helps us understand the basis of objects, as each object is necessarily an __instance__ of some _class_ of object. Later when we will be working with data, we will be using DataFrames, which are tables that contain data. These `DataFrame` objects have their own methods, but also _inherit_ methods. We will want to know how to create an instance of a `DataFrame` object, what it means to send different arguments, and to query for parts of the `DataFrame`. Observing the code below:  \n",
    "\n",
    "~~~ python\n",
    "import pandas as pd \n",
    "\n",
    "df = pd.DataFrame(columns=[\"name\",\"age\"]) \n",
    "~~~\n",
    "\n",
    "You can already notice that `pandas` is a library. In this library, which we have imported under the name `pd` for short, is a class called a DataFrame. By calling `df = pd.DataFrame()` we are creating an __instance__ of the DataFrame class called `df`. By using `cols=[\"name\",\"age\"]` we are sending these two values to the `DataFrame.__init__` method. Thus, when it initialises the DataFrame object `df`, we will have a table with two columns, `name` and `age`. See below (notice that it will possibly run slow the first time you `import pandas`).  "
   ]
  },
  {
   "cell_type": "code",
   "execution_count": 22,
   "metadata": {},
   "outputs": [
    {
     "data": {
      "text/html": [
       "<div>\n",
       "<style scoped>\n",
       "    .dataframe tbody tr th:only-of-type {\n",
       "        vertical-align: middle;\n",
       "    }\n",
       "\n",
       "    .dataframe tbody tr th {\n",
       "        vertical-align: top;\n",
       "    }\n",
       "\n",
       "    .dataframe thead th {\n",
       "        text-align: right;\n",
       "    }\n",
       "</style>\n",
       "<table border=\"1\" class=\"dataframe\">\n",
       "  <thead>\n",
       "    <tr style=\"text-align: right;\">\n",
       "      <th></th>\n",
       "      <th>name</th>\n",
       "      <th>age</th>\n",
       "    </tr>\n",
       "  </thead>\n",
       "  <tbody>\n",
       "    <tr>\n",
       "      <th>0</th>\n",
       "      <td>NaN</td>\n",
       "      <td>NaN</td>\n",
       "    </tr>\n",
       "    <tr>\n",
       "      <th>1</th>\n",
       "      <td>NaN</td>\n",
       "      <td>NaN</td>\n",
       "    </tr>\n",
       "    <tr>\n",
       "      <th>2</th>\n",
       "      <td>NaN</td>\n",
       "      <td>NaN</td>\n",
       "    </tr>\n",
       "    <tr>\n",
       "      <th>3</th>\n",
       "      <td>NaN</td>\n",
       "      <td>NaN</td>\n",
       "    </tr>\n",
       "    <tr>\n",
       "      <th>4</th>\n",
       "      <td>NaN</td>\n",
       "      <td>NaN</td>\n",
       "    </tr>\n",
       "  </tbody>\n",
       "</table>\n",
       "</div>"
      ],
      "text/plain": [
       "  name  age\n",
       "0  NaN  NaN\n",
       "1  NaN  NaN\n",
       "2  NaN  NaN\n",
       "3  NaN  NaN\n",
       "4  NaN  NaN"
      ]
     },
     "execution_count": 22,
     "metadata": {},
     "output_type": "execute_result"
    }
   ],
   "source": [
    "import pandas as pd \n",
    "\n",
    "# An empty table with two columns and five rows\n",
    "df = pd.DataFrame(columns=[\"name\",\"age\"],index=range(5)) \n",
    "df"
   ]
  },
  {
   "cell_type": "markdown",
   "metadata": {},
   "source": [
    "The DataFrame in this case is now an empty table. To create a table with data or to manipuate data is outside the scope of this book. Rather it is where we start off in the book \"From Social Science to Data Science\". "
   ]
  },
  {
   "cell_type": "markdown",
   "metadata": {},
   "source": [
    "# Conclusion\n",
    "\n",
    "Now we can see how programming can become pretty complicated, with objects referring to other objects and other functions or methods all over the place. Often times, when I'm trying something new with programming I often have check the documentation or print a lot to get a sense of what methods an object has available or simply to determine what type of object was returned from some method or function. Being able to understand how to query an object or manipulate it will be an important skill moving forward in Python and in giving your scripts some structure. This structure is not merely for its own sake. It helps to create code that is more reusable and robust. By structuring our code we are structuring our ideas about data. That is good if we want to do something repeatedly or consistently across many cases. \n",
    "\n",
    "The last chapter does not expand our basic programming knowledge much. Instead, the next chapter will focus on how to get out of Jupyter by writing Python scripts as well as by learning the basics of how to read and write files.  "
   ]
  }
 ],
 "metadata": {
  "kernelspec": {
   "display_name": "Python 3",
   "language": "python",
   "name": "python3"
  },
  "language_info": {
   "codemirror_mode": {
    "name": "ipython",
    "version": 3
   },
   "file_extension": ".py",
   "mimetype": "text/x-python",
   "name": "python",
   "nbconvert_exporter": "python",
   "pygments_lexer": "ipython3",
   "version": "3.8.5"
  },
  "toc-autonumbering": true
 },
 "nbformat": 4,
 "nbformat_minor": 4
}
