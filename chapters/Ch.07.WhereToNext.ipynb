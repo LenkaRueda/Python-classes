{
 "cells": [
  {
   "cell_type": "markdown",
   "metadata": {},
   "source": [
    "# Continuning your Python learning \n",
    "\n",
    "There's a real challenge for people after just learning the basics of a language. And it's endemic to books teaching Python as well. After the basics they tend to fray outwards in a variety of directions, primarily reflecting the interest of the author. One of the books that I enjoyed in this regard was the now a little dated Python Crash Course by Eric Matthes. In that book after the basics (which frankly are pretty similar to what's included here), he presents projects which are considerably different in scope and technique, such as a video game and a data science project. I think that's the right approach. From here I hope you'll consider these skills as helping you consider a programmatic way of thinking. I don't want to say a new way, as we employ programmatic thinking all the time: sorting the laundry, organising a bookshelf, or preparing dinner step-by-step all have vestiges of algorithmic reasoning.  \n",
    "\n",
    "Now as it happens, algorithmic reasoning gets applied to many areas of human behavior, sometimes to the detriment of those whose behavior it shapes. We hear of cold bureacracies with endless forms, unfair job hiring, or police profiling of certain communities based on 'data'. These are very real and very consequential, down to the price of the food you buy and the quality of the air you breathe. It's hard to fully participate in a world governed so heavily be algorithms without a sense of how to create one yourself. In that sense, I see this sort of work as partially a journey of empowerment. You can ask questions at a different scale with programming. But imagination is also part motivation and part inspiration.  "
   ]
  },
  {
   "cell_type": "markdown",
   "metadata": {},
   "source": [
    "The first thing you'll need on this journey will be the standard tools. Often people sidestep these for searching on Stack Exchange or Google first. But I say start with some basics: _read_, read the [documentation](https://docs.python.org/3/library/pydoc.html) particularly. This is not just the specific instructions for a particular module or form of syntax. It includes tutorials and installation guides as well. It's worth being careful, however, that you're mindful of the version for the docs. Python is currently running version 3.10 as of December 2021. Anaconda is running 3.9. It's okay for the version to be a little behind, but since the language does evolve, there are always bound to be some new things. I find that some of the newer things to be really clever solutions to repetitive code issues (like the walrus operator). \n",
    "\n",
    "One place that's especially useful for understanding how Python evolves are the PEP or Python Enhancement Proposals. One in particular is worth reading whenever you get the chance, [PEP-8](https://www.python.org/dev/peps/pep-0008/), which is the recommended style guide.  As it happens I do not 100% follow the guide. Or maybe I do? As it says in the style guide: \"A Foolish Consistency is the Hobgoblin of Little Minds\". It's okay to be a little out of sync with any specific Python style, but it is preferable to be as consistent as possible, particularly within project. In fact, it's interesting to me to read other people's code and understand when they have a 'style' to their programming. To me it really does seem like a voice for some people. \n",
    "\n",
    "Ok, but these are pretty dry. Read the docs? Seriously? No, seriously. It's kind of like the vegetables of your learning diet. But they're cooked well and pretty seasoned. Beyond that, I've grouped some resources into different categories. And this is a very partial list. "
   ]
  },
  {
   "cell_type": "markdown",
   "metadata": {},
   "source": [
    "## Websites\n",
    "\n",
    "Some websites are especially thorough when teaching Python, with pages dedicated to single topics. If you find that the coverage of a topic here (which is often just a paragraph and a single example) is not enough, it's worth having a look at the following sites: \n",
    "\n",
    "- __w3schools__ (https://www.w3schools.com): They have very extensive examples for many specific Python concepts, but many other web technologies as well. The examples are very sparse though. With Python you are often getting a clear view on a single concept rather than a sense of how this concept fits into a larger whole.   \n",
    "- __realpython__ (https://realpython.com/): This one is similar to w3schools. It locks away some advanced content for paid subscibers, which is a shame. This tends to be the case for a lot of sites. \n",
    "- __Towards Data Science__ (https://towardsdatascience.com/): This is presently a blog on Medium, so it suffers from the same paid content issues. But I think that the blog posts on this site tend to be the right size for me. Digestable and often well-contextualised. It's not painfully slow and repetitive, but is still slow enough to be clear (at least for topics that are just at the cusp of where my own learning is). \n",
    "- __Data Carpentry__ (https://datacarpentry.org/): This non-profit community-driven site has some excellent tutorials on all skills levels in Python. It think it's both a great resource for it's content but also of how it's produced.  That said, it is not as thorough as w3schools or realpython. It's more practice based and for specific concepts. That being said it is a great place to learn about some things just beyond this book. \n",
    "- __Jake Van Der Plas' Python Repositories__. Jake was early out of the gate with a book that doubles as a Jupyter notebook. He's the author of a [Whirlwind Tour of Python](https://github.com/jakevdp/WhirlwindTourOfPython), which is very close in spirit and style as this book, and the [Python Data Science Handbook](https://github.com/jakevdp/PythonDataScienceHandbook), both from O'Reilly. I really want to cheer on these two books especially. Similarly written in Jupyter Notebooks and available on GitHub, they are a great complement, though perhaps with a little less social science flair. "
   ]
  },
  {
   "cell_type": "markdown",
   "metadata": {},
   "source": [
    "## Communities and forums\n",
    "\n",
    "- __StackExchange__: I suspect this will end up being one of your more regularly visited sites when trying to solve problems in Python. StackOverflow for coding is a vast and useful resources. But be cautious on the site. Read the answer rather than cut-paste-and-hope. Tinker with the example a little before trusting it. It often pays off to know what you're getting into with someone else's code. Notice in the threads that there's sometimes a discussion - this can be worth engaging. People often point out how it works differently on later versions or how it could be simplified. \n",
    "- __Reddit__: Reddit has a variety of places for learning new programming skills. I find the [LearnPython](https://www.reddit.com/r/learnpython/) community to be pretty civil and welcoming. Sort the content by top or by top this year to find a lot of walkthroughs, guides, and cheat sheets. The larger /r/Python and /r/DataScience subreddits can show some interesting projects as well, but are often more geared to those with programming experience. See what they are up to as well.  \n",
    "- __Twitter__: Twitter can often surface some real gems that might be hidden otherwise. Follow those practicing the sort of skills you want to learn. If there's an author of a package out there you find useful, check out their feed. Academics are particularly keen to share code and notebooks on Twitter. \n",
    "\n",
    "Beyond this, tons of social media sites will have resources, news, and discussion about programming."
   ]
  },
  {
   "cell_type": "markdown",
   "metadata": {},
   "source": [
    "## Online courses \n",
    "\n",
    "There are a ton of online courses available. I would recommend any courses that are somewhat goal focused or practice based to get you exploring with some hands on experience. But they all have their place to reinforce your learning. Just know that strictly following someone else's tutorial will not build the creative spark needed to advance your work. Codeacademy, Udemy, and Coursera are all examples of these sorts of sites. Personally, I think the tutorials and help pages for many projects themselves offer a solid foundation for learning a new skill, but there is still some merit to having it structured. \n",
    "\n",
    "What is most useful to me, however, is having some sort of feedback or results from your work. Thus finding coding communities, hackathons, or user groups might enliven your experience considerably. Not all places are equally welcoming, unfortunately. It pays to shop around if you find a user group or community to be unwelcoming. But don't give up, people of all kinds of attitudes, identities, and ideologies are picking up programming and making it their own. "
   ]
  },
  {
   "cell_type": "markdown",
   "metadata": {},
   "source": [
    "# Ideas for directions next \n",
    "\n",
    "Because Python is now so widely diffused, once you get the basics you can go in a huge number of directions. There's full fledged ways in python to make maps ([geopandas](https://geopandas.org/en/stable/) and [pysal](https://pysal.org/)), detect objects in images ([opencv](https://opencv.org/)), do social network analysis ([networkx](https://networkx.org/)), process text ([nltk](https://www.nltk.org/) and [spacy](https://spacy.io/)), produce a blog ([django](https://www.djangoproject.com/)), and more. Some of these approaches emhpasise different parts of Python. For some, it is about creating a listener that will receive input (like mouse movement), for others it is about managing large streams of data, or interacting with complex objects. \n",
    "\n",
    "Basically, try attaching pretty much any programming task or domain with \"Python\" these days and you are likely to find somebody working on it. Try searching around the internet, and especially [PyPi](https://pypi.org/), which is a huge repository of Python modules. You'd be surprised at not only how far Python can take you, but how far you can get with the skills herein. \n",
    "\n",
    "Safe travels and many happy `return` statements. "
   ]
  }
 ],
 "metadata": {
  "kernelspec": {
   "display_name": "Python 3 (ipykernel)",
   "language": "python",
   "name": "python3"
  },
  "language_info": {
   "codemirror_mode": {
    "name": "ipython",
    "version": 3
   },
   "file_extension": ".py",
   "mimetype": "text/x-python",
   "name": "python",
   "nbconvert_exporter": "python",
   "pygments_lexer": "ipython3",
   "version": "3.9.7"
  }
 },
 "nbformat": 4,
 "nbformat_minor": 4
}
